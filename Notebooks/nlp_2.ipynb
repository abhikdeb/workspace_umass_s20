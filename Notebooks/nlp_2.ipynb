{
 "cells": [
  {
   "cell_type": "markdown",
   "metadata": {
    "colab_type": "text",
    "id": "zK3cUsqPwsMl"
   },
   "source": [
    "# Homework 2, CS585 Fall 2019 (due Mar 6th, 2020)\n",
    "\n",
    "### **This HW is due on Mar 6th, 2020, submitted via Gradescope as a PDF (File > Print > Save as PDF). 150 points total.**\n",
    "\n",
    "#### IMPORTANT: After copying this notebook to your Google Drive, please add a link to it below. To get a publicly-accessible link, hit the *Share* button at the top right, then click \"Get shareable link\" and copy over the result. If you fail to do this, you will receive no credit for this homework!\n",
    "LINK: https://colab.research.google.com/drive/1n6U1fth6kahl4B7e6BP0fZ3j6cAzhNlp\n",
    "\n",
    "##### How to do this problem set:\n",
    "\n",
    "- Most of these questions require writing Python code and computing results, and the rest of them have textual answers. To generate the answers, you will have to fill out all code-blocks that say `IMPLEMENT ME` or `ENTER CODE HERE`.\n",
    "\n",
    "- For all of the textual answers you have to fill out have placeholder text which says  `Answer in one or two sentences here` or `YOUR ANSWER HERE` For each question, you need to replace the placeholder text with your answer.\n",
    " \n",
    "- The neural language model may take up to 10 minutes to train and the allenNLP models can take up to 30 minutes to finetune, so **start early**! The rest of the cells are designed so that you can run in a few minutes of computation time. If it is taking longer than that, you probably have made a mistake in your code.\n",
    "\n",
    "##### How to submit this problem set:\n",
    "- Write all the answers in this ipython notebook. Once you are finished (1) Generate a PDF via (File -> Print -> Save as PDF) and upload to Gradescope.\n",
    "  \n",
    "- **Important:** check your PDF before you turn it in to Gradescope to make sure it exported correctly. If Colab gets confused about your syntax, it will sometimes terminate the PDF creation routine early.\n",
    "\n",
    "- When creating your final version of the PDF to hand in, please do a fresh restart and execute every cell in order. Then you'll be sure it's actually right. One handy way to do this is by clicking `Runtime -> Run All` in the notebook menu.\n",
    "\n",
    "##### Academic honesty \n",
    "\n",
    "- We will audit the Colab notebooks from a set number of students, chosen at random. The audits will check that the code you wrote actually generates the answers in your PDF. If you turn in correct answers on your PDF without code that actually generates those answers, we will consider this a serious case of cheating. See the course page for honesty policies.\n",
    "\n",
    "- We will also run automatic checks of Colab notebooks for plagiarism. Copying code from others is also considered a serious case of cheating.\n",
    "\n"
   ]
  },
  {
   "cell_type": "markdown",
   "metadata": {
    "colab_type": "text",
    "id": "j1L3qaTVCClZ"
   },
   "source": [
    "## Q0. Relu Dead Neuron (20 points)\n",
    "Relu is an activation funciton commonly used in many neural network architectures. Unfortunately, Relu units can be fragile at times as in the following scenario. Please complete the following question:\n",
    "\n",
    "[INLP ch.\\ 3, \\#8, all of (a), (b), and (c).]\n",
    "\n",
    "(You can insert mathematical symbols by using the double dollar sign \"$$\" just like in latex)"
   ]
  },
  {
   "cell_type": "markdown",
   "metadata": {
    "colab_type": "text",
    "id": "2-D827FNC_W9"
   },
   "source": [
    "Considering the following two layer feed forward network whose output is $y$ and $x\\in \\{0,1\\}^D$.\n",
    "$$z_i\\ =\\ \\text{ReLU}(\\theta^{(x\\rightarrow z)}_i.x\\ +\\ b_i)$$\n",
    "$$y\\ =\\ \\theta^{(z\\rightarrow y)}.z$$\n",
    "\n",
    "**Solution:**\n",
    "\n",
    "**a)** \n",
    "\n",
    "A node $z_i$ is considered dead when the gradient becomes zero during training and hence no further updates happen during backpropagation which affects the nodes beyond it. This is when the input to the ReLU becomes negative as the gradient of ReLU function is 0 when the input to it is negative.\n",
    "\n",
    "We can write the ReLU function and its gradient as below:\n",
    "\n",
    "$$f(x) = \\left \\{ \\begin{array}{rcl} 0 & \\mbox{for} & x < 0\\\\ x & \\mbox{for} & x \\ge 0\\end{array} \\right.  \\ \\ \\ \\ \\&\\ \\ \\ \\ f'(x) = \\left \\{ \\begin{array}{rcl} 0 & \\mbox{for} & x < 0\\\\ 1 & \\mbox{for} & x > 0\\end{array} \\right.$$\n",
    "\n",
    "\n",
    "Hence from our loss function, we get the below,\n",
    "\n",
    "$$\\left(\\theta^{(x\\rightarrow z)}_i.x\\ +\\ b_i\\right)\\ <\\ 0\\ \\ \\ \\implies \\theta^{(x\\rightarrow z)}_i.x\\ <\\ - b_i$$\n",
    "\n",
    "Since we know that $x\\ \\in\\ \\{0,1\\}^D$, max($x$) would be 1 element wise. Thus we can bring a stricter bound for the neurron to be dead as below,\n",
    "\n",
    "$$\\sum^D_{j=1} \\theta^{(x\\rightarrow z)}_{i,j}\\times\\ x_j\\ <\\ -b_i\\ \\implies\\ \\sum^D_{j=1} \\theta^{(x\\rightarrow z)}_{i,j}\\ <\\ -b_i$$\n",
    "\n",
    "\n",
    "**b)** \n",
    "\n",
    "Given that $\\frac{\\partial \\mathcal{l}}{\\partial y} = 1$,\n",
    "\n",
    "$$\\frac{\\partial l}{\\partial b_i}\\ =\\ \\frac{\\partial l}{\\partial y}.\\frac{\\partial y}{\\partial z_i}.\\frac{\\partial z_i}{\\partial b_i}\\ \\ \\ \\ \\&\\ \\ \\ \\ \\frac{\\partial l}{\\partial \\theta^{(x\\rightarrow z)}_{j,i}}\\ =\\ \\frac{\\partial l}{\\partial y}.\\frac{\\partial y}{\\partial z_i}.\\frac{\\partial z_i}{\\partial \\theta^{(x\\rightarrow z)}_{j,i}}$$\n",
    "\n",
    "From the above, we derive the following to help achieve our objective:\n",
    "\n",
    "$$\\frac{\\partial z_i}{\\partial b_i}\\ =\\ \\delta\\left[\\theta^{(x\\rightarrow z)}_i.x\\ +\\ b_i\\right]\\ \\ \\ \\ \\ ; \\ \\ \\ \\frac{\\partial y}{\\partial z_i}\\ =\\ \\theta^{(z\\rightarrow y)}\\ \\ \\ \\ \\ ; \\ \\ \\ \\frac{\\partial z_i}{\\partial \\theta^{(x\\rightarrow z)}_{j,i}}\\ =\\ x_j.\\delta\\left[\\theta^{(x\\rightarrow z)}_i.x\\ +\\ b_i\\right]$$\n",
    "\n",
    "$$$$\n",
    "\n",
    "where,\n",
    "$$\\delta[\\phi] =\n",
    "    \\begin{cases}\n",
    "            1, &         \\text{if } \\phi > 0,\\\\\n",
    "            0, &         \\text{if } \\phi < 0.\n",
    "    \\end{cases}$$\n",
    "\n",
    "Hence substituting in the equations we get,\n",
    "\n",
    "$$\\frac{\\partial l}{\\partial b_i}\\ =\\ \\theta^{(z\\rightarrow y)}_i.\\delta\\left[\\theta^{(x\\rightarrow z)}_i.x\\ +\\ b_i\\right]$$\n",
    "\n",
    "$$\\frac{\\partial l}{\\partial \\theta^{(x\\rightarrow z)}_{j,i}}\\ =\\ \\theta^{(z\\rightarrow y)}.x_j.\\delta\\left[\\theta^{(x\\rightarrow z)}_i.x\\ +\\ b_i\\right]$$\n",
    "\n",
    "\n",
    "**c)** \n",
    "\n",
    "As can be seen in part (b), gradient becomes 0 when,\n",
    "\n",
    "$$\\theta^{(x\\rightarrow z)}_i.x\\ +\\ b_i\\ <\\ 0$$\n",
    "\n",
    "Hence, in a gradient based learning where we update the parameters ($\\theta^{x\\rightarrow z}, \\theta^{z\\rightarrow y}$) by the following:\n",
    "\n",
    "\n",
    "$$ \\theta^{x\\rightarrow z}_{next} \\leftarrow \\theta^{x\\rightarrow z}_{prev} + \\lambda_1.\\frac{\\partial l}{\\partial \\theta^{x\\rightarrow z}}\\ \\ \\ \\ ;\\ \\ \\ \\theta^{z\\rightarrow y}_{next} \\leftarrow \\theta^{z\\rightarrow y}_{prev} + \\lambda_2.\\frac{\\partial l}{\\partial \\theta^{z\\rightarrow y}}$$\n",
    "\n",
    "\n",
    "As the gradients become zero the parameter values get stagnant and the corresponding gradient also remains at 0 and hence no learning can further occur through that neuron and is hence considered dead as it will not affect the training of the model parameters irrespective of the further inputs it reads.\n",
    "\n",
    "\n",
    "\n",
    "Also from part (a), if the strict upper bound is breached, irrespective of the input to the model, the neuron will never be activated due to a 0 gradient which will make the neuron and succeeding neurons dead throughout its tenure."
   ]
  },
  {
   "cell_type": "markdown",
   "metadata": {
    "colab_type": "text",
    "id": "S-nnjXfGDl6w"
   },
   "source": [
    "## Q1. N-gram Language model (40pts)\n"
   ]
  },
  {
   "cell_type": "markdown",
   "metadata": {
    "colab_type": "text",
    "id": "CS8DgBtkBvA2"
   },
   "source": [
    "To get started with the rest of the assignment, first run the following cell to create a PyDrive client and download data to your own Google Drive."
   ]
  },
  {
   "cell_type": "code",
   "execution_count": 0,
   "metadata": {
    "colab": {
     "base_uri": "https://localhost:8080/",
     "height": 34
    },
    "colab_type": "code",
    "id": "5Cz0lbXL2_19",
    "outputId": "24ca0bd8-8fb4-4ff1-cec2-7e2d75c7ac64"
   },
   "outputs": [
    {
     "name": "stdout",
     "output_type": "stream",
     "text": [
      "success!\n"
     ]
    }
   ],
   "source": [
    "!pip install -U -q PyDrive\n",
    "from pydrive.auth import GoogleAuth\n",
    "from pydrive.drive import GoogleDrive\n",
    "from google.colab import auth\n",
    "from oauth2client.client import GoogleCredentials\n",
    "# Authenticate and create the PyDrive client.\n",
    "auth.authenticate_user()\n",
    "gauth = GoogleAuth()\n",
    "gauth.credentials = GoogleCredentials.get_application_default()\n",
    "drive = GoogleDrive(gauth)\n",
    "print('success!')"
   ]
  },
  {
   "cell_type": "code",
   "execution_count": 0,
   "metadata": {
    "colab": {},
    "colab_type": "code",
    "id": "X8bZDdek4mo2"
   },
   "outputs": [],
   "source": [
    "import torch, pickle, os, sys, random, time\n",
    "import torch.nn.functional as F\n",
    "import matplotlib.pyplot as plt\n",
    "from torch import nn, optim\n",
    "from collections import *\n",
    "import numpy as np\n"
   ]
  },
  {
   "cell_type": "code",
   "execution_count": 0,
   "metadata": {
    "colab": {},
    "colab_type": "code",
    "id": "LVKsHApr4zkD"
   },
   "outputs": [],
   "source": [
    "# Download wikitext02 data\n",
    "data = {'test': '', 'train': '', 'valid': ''}\n",
    "f_id = {'wiki.test.tokens': '1T8yMDqCqrWVXYJiTqKe2q8hoyAD_rV84', \n",
    "        'wiki.train.tokens': '1itIse_TpmFq1I5y7mxuXtzljnRwoM8gF', \n",
    "        'wiki.valid.tokens': '1K3SV5p8gu19DgQZtRvCViGMb26NJ1scd'}\n",
    "\n",
    "for fname in f_id:\n",
    "  f = drive.CreateFile({'id' : f_id[fname]})\n",
    "  f.GetContentFile(fname)\n",
    "  with open(fname, 'r') as f_wiki:\n",
    "    data[fname.split('.')[1]] = f_wiki.read().lower().split()\n",
    "\n",
    "vocab = list(set(data['train']))"
   ]
  },
  {
   "cell_type": "markdown",
   "metadata": {
    "colab_type": "text",
    "id": "FzRJcts-xirF"
   },
   "source": [
    "Now have a look at the data by running the below cell."
   ]
  },
  {
   "cell_type": "code",
   "execution_count": 0,
   "metadata": {
    "colab": {
     "base_uri": "https://localhost:8080/",
     "height": 84
    },
    "colab_type": "code",
    "id": "GLE1v7mRIKt-",
    "outputId": "0b3e3b3c-f90a-4869-cd40-427eaa4d816d"
   },
   "outputs": [
    {
     "name": "stdout",
     "output_type": "stream",
     "text": [
      "train : ['=', 'valkyria', 'chronicles', 'iii', '=', 'senjō', 'no', 'valkyria', '3', ':'] ...\n",
      "dev : ['=', 'homarus', 'gammarus', '=', 'homarus', 'gammarus', ',', 'known', 'as', 'the'] ...\n",
      "test : ['=', 'robert', '<unk>', '=', 'robert', '<unk>', 'is', 'an', 'english', 'film'] ...\n",
      "first 10 words in vocab: ['bethel', 'byblos', 'karen', 'dimension', 'branching', 'sachs', 'board', 'friary', 'heart', 'function']\n"
     ]
    }
   ],
   "source": [
    "print('train : %s ...' % data['train'][:10])\n",
    "print('dev : %s ...' % data['valid'][:10])\n",
    "print('test : %s ...' % data['test'][:10])\n",
    "print('first 10 words in vocab: %s' % vocab[:10])"
   ]
  },
  {
   "cell_type": "markdown",
   "metadata": {
    "colab_type": "text",
    "id": "3TZ91yDrl1Oq"
   },
   "source": [
    "\n",
    "\n"
   ]
  },
  {
   "cell_type": "markdown",
   "metadata": {
    "colab_type": "text",
    "id": "qhEuT7w5ClUg"
   },
   "source": [
    "\n",
    "### **Q1.1:** Train N-gram language model (15pts)\n",
    "\n",
    "Complete the following *train_ngram_lm* function based on the following input/output specifications. If you've done it right, you should pass the tests in the cell below.\n",
    "\n",
    "*Input:*\n",
    "+ **data**: the data object created in the cell above that holds the tokenized Wikitext data\n",
    "+ **order**: the order of the model (i.e., the \"n\" in \"n-gram\" model) If order=3, we compute $p(w_2 | w_0, w_1)$.\n",
    "\n",
    "*Output:*\n",
    "+ **lm**: A dictionary where the key is the history and the value is a probability distribution over the next word computed using the maximum likelihood estimate from the training data. Importantly, this dictionary should include *backoff* probabilities as well; e.g., for order=4, we want to store $p(w_3 | w_0,w_1,w_2)$ as well as $p(w_3|w_1,w_2)$ and $p(w_3|w_2)$. \n",
    "\n",
    "Each key should be a single string where the words that form the history have been concatenated using spaces. Given a key, its corresponding value should be a dictionary where each word type in the vocabulary is associated with its probability of appearing after the key. For example, the entry for the history 'w1 w2' should look like:\n",
    "\n",
    "    \n",
    "    lm['w1 w2'] = {'w0': 0.001, 'w1' : 1e-6, 'w2' : 1e-6, 'w3': 0.003, ...}\n",
    "    \n",
    "In this example, we also want to store `lm['w2']` and `lm['']`, which contain the bigram and unigram distributions respectively.\n",
    "\n",
    "*Hint:* You might find the **defaultdict** and **Counter** classes in the **collections** module to be helpful."
   ]
  },
  {
   "cell_type": "code",
   "execution_count": 0,
   "metadata": {
    "colab": {},
    "colab_type": "code",
    "id": "S13ismv99-N1"
   },
   "outputs": [],
   "source": [
    "def train_ngram_lm(data, order=3):\n",
    "    \"\"\"\n",
    "        Train n-gram language model\n",
    "    \"\"\"\n",
    "    # pad (order-1) special tokens to the left\n",
    "    # for the first token in the text\n",
    "    order -= 1\n",
    "    data = ['<S>'] * order + data # \n",
    "    lm = defaultdict(Counter)\n",
    "    for i in range(len(data) - order):\n",
    "      words = data[i:i+order+1]\n",
    "      word = data[i+order]\n",
    "      for j in range(0,order+1,1):\n",
    "        sub_key = ' '.join(words[j:-1])\n",
    "        lm[sub_key][word] += 1\n",
    "    for ki in lm.keys():\n",
    "      tot = sum(lm[ki].values())\n",
    "      for ski in lm[ki].keys():\n",
    "        lm[ki][ski] /= tot\n",
    "    return lm        "
   ]
  },
  {
   "cell_type": "code",
   "execution_count": 0,
   "metadata": {
    "colab": {
     "base_uri": "https://localhost:8080/",
     "height": 101
    },
    "colab_type": "code",
    "id": "QK0QYLxd49x3",
    "outputId": "a7fd128b-9577-4134-b05a-57377d93f858"
   },
   "outputs": [
    {
     "name": "stdout",
     "output_type": "stream",
     "text": [
      "checking empty history ...\n",
      "checking probability distributions ...\n",
      "checking lengths of histories ...\n",
      "checking word distribution values ...\n",
      "Congratulations, you passed the ngram check!\n"
     ]
    }
   ],
   "source": [
    "def test_ngram_lm():\n",
    "  \n",
    "    print('checking empty history ...')\n",
    "    lm1 = train_ngram_lm(data['train'], order=1)\n",
    "    assert '' in lm1, \"empty history should be in the language model!\"\n",
    "    \n",
    "    print('checking probability distributions ...')\n",
    "    lm2 = train_ngram_lm(data['train'], order=2)\n",
    "    sample = [sum(lm2[k].values()) for k in random.sample(list(lm2), 10)]\n",
    "    assert all([a > 0.999 and a < 1.001 for a in sample]), \"lm[history][word] should sum to 1!\"\n",
    "    \n",
    "    print('checking lengths of histories ...')\n",
    "    lm3 = train_ngram_lm(data['train'], order=3)\n",
    "    assert len(set([len(k.split()) for k in list(lm3)])) == 3, \"lm object should store histories of all sizes!\"\n",
    "    \n",
    "    print('checking word distribution values ...')\n",
    "    assert lm1['']['the'] < 0.064 and lm1['']['the'] > 0.062 and \\\n",
    "           lm2['the']['first'] < 0.017 and lm2['the']['first'] > 0.016 and \\\n",
    "           lm3['the first']['time'] < 0.106 and lm3['the first']['time'] > 0.105, \\\n",
    "           \"values do not match!\"\n",
    "    \n",
    "    print(\"Congratulations, you passed the ngram check!\")\n",
    "    \n",
    "  \n",
    "test_ngram_lm()"
   ]
  },
  {
   "cell_type": "markdown",
   "metadata": {
    "colab_type": "text",
    "id": "EjKT7pwJE6WY"
   },
   "source": [
    "### **Q1.2:** Generate text from n-gram language model (10pts)\n",
    "\n",
    "Complete the following *generate_text* function based on these input/output requirements:\n",
    "\n",
    "*Input:*\n",
    "\n",
    "+ **lm**: the lm object, a dictionary you return from  the **train_ngram_lm** function\n",
    "+ **vocab**: vocab is a list of unique word types in the training set computed already computed for you during data loading.\n",
    "+ **context**: the input context string that you want to condition your language model on, should be a space-separated string of tokens\n",
    "+ **order**: order of your language model (i.e., \"n\" in the n-gram model)\n",
    "+ **num_tok**: number of tokens to be generated following the input context\n",
    "\n",
    "\n",
    "*Output:*\n",
    "\n",
    "+ generated text, should be a space-separated string\n",
    "    \n",
    "*Hint:*\n",
    "\n",
    "After getting the next-word distribution given history, try using **[numpy.random.choice](https://docs.scipy.org/doc/numpy-1.14.0/reference/generated/numpy.random.choice.html)** to sample the next word from the distribution."
   ]
  },
  {
   "cell_type": "code",
   "execution_count": 0,
   "metadata": {
    "colab": {},
    "colab_type": "code",
    "id": "wy__Q6YJk0h8"
   },
   "outputs": [],
   "source": [
    "import numpy as np"
   ]
  },
  {
   "cell_type": "code",
   "execution_count": 0,
   "metadata": {
    "colab": {},
    "colab_type": "code",
    "id": "jx0BFoF1E5dF"
   },
   "outputs": [],
   "source": [
    "# generate text\n",
    "def generate_text(lm, vocab, context=\"he is the\", order=3, num_tok=25):\n",
    "    \n",
    "    # The goal is to generate new words following the context\n",
    "    # If context has more tokens than the order of lm, \n",
    "    # generate text that follows the last (order-1) tokens of the context\n",
    "    # and store it in the variable `history`\n",
    "    order -= 1\n",
    "    history = context.split()[-order:]\n",
    "    # `out` is the list of tokens of context\n",
    "    # you need to append the generated tokens to this list\n",
    "    out = context.split()    \n",
    "    for i in range(num_tok):\n",
    "      key = ' '.join(history)\n",
    "      if key not in lm.keys():\n",
    "        next_word = np.random.choice(vocab)\n",
    "      else:\n",
    "        next_word = np.random.choice(list(lm[key].keys()))\n",
    "      context = ' '.join([context, next_word])\n",
    "      history = context.split()[-order:]\n",
    "      out = context.split()\n",
    "\n",
    "    return ' '.join(out)"
   ]
  },
  {
   "cell_type": "markdown",
   "metadata": {
    "colab_type": "text",
    "id": "2qPPhLK3HF5L"
   },
   "source": [
    "Now try to generate some texts! Read the texts generated by ngram language model with different orders"
   ]
  },
  {
   "cell_type": "code",
   "execution_count": 0,
   "metadata": {
    "colab": {
     "base_uri": "https://localhost:8080/",
     "height": 54
    },
    "colab_type": "code",
    "id": "BSlNevanHIlM",
    "outputId": "335eb558-2ab8-4ac5-b1a2-476b64fb69b3"
   },
   "outputs": [
    {
     "data": {
      "text/plain": [
       "'he is the vocalization carcetti moniteur natured gatwick palabras highlander usury shepherd andorian outdoors open ritualised 1142 1166 poker evaporation montenegrins dahl camden kramer soledad loftleidir suspicious hoot'"
      ]
     },
     "execution_count": 51,
     "metadata": {
      "tags": []
     },
     "output_type": "execute_result"
    }
   ],
   "source": [
    "order = 1\n",
    "generate_text(train_ngram_lm(data['train'], order=order), vocab, context='he is the', order=order)"
   ]
  },
  {
   "cell_type": "code",
   "execution_count": 0,
   "metadata": {
    "colab": {
     "base_uri": "https://localhost:8080/",
     "height": 34
    },
    "colab_type": "code",
    "id": "Ibmvkwl9HMzd",
    "outputId": "268e29d5-8321-425d-917f-ec9fec60a3c1"
   },
   "outputs": [
    {
     "data": {
      "text/plain": [
       "'he is the scoring 7 rating due on 70 mph . philippe and enlarged portion by ellen intensified . raw and bourdais in 1856 at dalmeny and wendy'"
      ]
     },
     "execution_count": 52,
     "metadata": {
      "tags": []
     },
     "output_type": "execute_result"
    }
   ],
   "source": [
    "order = 2\n",
    "generate_text(train_ngram_lm(data['train'], order=order), vocab, context='he is the', order=order)"
   ]
  },
  {
   "cell_type": "code",
   "execution_count": 0,
   "metadata": {
    "colab": {
     "base_uri": "https://localhost:8080/",
     "height": 34
    },
    "colab_type": "code",
    "id": "BQNB3FqKHibm",
    "outputId": "831c6ff8-f2aa-4477-85e3-ff1962ebce30"
   },
   "outputs": [
    {
     "data": {
      "text/plain": [
       "'he is the simple looks and <unk> seaplane which attempted to position his four star review for president he says effectively changed fashion in ireland was largely described'"
      ]
     },
     "execution_count": 53,
     "metadata": {
      "tags": []
     },
     "output_type": "execute_result"
    }
   ],
   "source": [
    "order = 3\n",
    "generate_text(train_ngram_lm(data['train'], order=order), vocab, context='he is the', order=order)"
   ]
  },
  {
   "cell_type": "code",
   "execution_count": 0,
   "metadata": {
    "colab": {
     "base_uri": "https://localhost:8080/",
     "height": 34
    },
    "colab_type": "code",
    "id": "eSO4l5z7HjGU",
    "outputId": "612abfbf-ab78-4486-bd7a-8402b0564b9c"
   },
   "outputs": [
    {
     "data": {
      "text/plain": [
       "'he is the same and their philosophical views are similar : neither \" pays much attention to death , because that \\'s basic to all of the amino'"
      ]
     },
     "execution_count": 54,
     "metadata": {
      "tags": []
     },
     "output_type": "execute_result"
    }
   ],
   "source": [
    "order = 4\n",
    "generate_text(train_ngram_lm(data['train'], order=order), vocab, context='he is the', order=order)"
   ]
  },
  {
   "cell_type": "markdown",
   "metadata": {
    "colab_type": "text",
    "id": "YLovkCIrHy0H"
   },
   "source": [
    "### Q1.3 : Complete *compute_perplexity* (15pts)\n",
    "Now let's evaluate the models quantitively using the intrinsic metric **perplexity**. \n",
    "\n",
    "Recall perplexity is the inverse probability of the test text\n",
    "$$\\text{ppl}(w_1, \\dots, w_n) = p(w_1, \\dots, w_n)^{-\\frac{1}{N}}$$\n",
    "\n",
    "For an n-gram model, perplexity is computed by\n",
    "$$\\text{ppl}(w_1, \\dots, w_n) = (\\prod_i p(w_{i+n}|w_i^{i+n-1})^{-\\frac{1}{N}}$$\n",
    "\n",
    "To get rid of numerical issue, we usually compute through:\n",
    "$$\\text{ppl}(w_1, \\dots, w_n) = \\exp(-\\frac{1}{N}\\sum_i \\log p(w_{i+n}|w_i^{i+n-1}))$$\n",
    "\n",
    "\n",
    "*Input:*\n",
    "\n",
    "+ **lm**: the language model you trained, still the object you returned from the **train_ngram_lm** function\n",
    "+ **data**: test data\n",
    "+ **vocab**: vocab\n",
    "+ **order**: order of the lm\n",
    "\n",
    "*Output:*\n",
    "\n",
    "+ the perplexity of test data\n",
    "\n",
    "*Hint:*\n",
    "\n",
    "+ If the history is not in the **lm** object, back-off to (n-1) order history to check if it is in **lm**. If no history can be found, just use `1/|V|` where `|V|` is the size of vocabulary."
   ]
  },
  {
   "cell_type": "code",
   "execution_count": 0,
   "metadata": {
    "colab": {},
    "colab_type": "code",
    "id": "FKi4AczgHj1t"
   },
   "outputs": [],
   "source": [
    "def compute_perplexity(lm, data, vocab, order=3):\n",
    "    \n",
    "    # pad according to order\n",
    "    order -= 1\n",
    "    data = ['<S>'] * order + data\n",
    "    ppl = 0\n",
    "    vocab = vocab + ['<S>']\n",
    "    for i in range(len(data) - order):\n",
    "      h, w = ' '.join(data[i: i+order]), data[i+order]\n",
    "      \"\"\"\n",
    "      IMPLEMENT ME!\n",
    "      # if h not in lm, back-off to n-1 gram and look up again\n",
    "\n",
    "      \"\"\"\n",
    "      \n",
    "      while (h not in lm.keys()) or (lm[h][w] == 0):\n",
    "        if len(h.split()) == 1:\n",
    "          h = ''\n",
    "        else:\n",
    "          h = ' '.join(h.split()[1:])\n",
    "      \n",
    "      ppl += np.log(lm[h][w])\n",
    "    \n",
    "    ppl = np.exp( (-1/(len(data) - order)) * ppl )\n",
    "\n",
    "    return ppl    "
   ]
  },
  {
   "cell_type": "markdown",
   "metadata": {
    "colab_type": "text",
    "id": "hVpItwZhI6ac"
   },
   "source": [
    "Let's evaluate the language model with different orders. You should see a decrease in perplexity as the order increases. As a reference, the perplexity of the unigram, bigram, trigram, 4-gram language model should be around 795, 203, 141, 130 respectively."
   ]
  },
  {
   "cell_type": "code",
   "execution_count": 0,
   "metadata": {
    "colab": {
     "base_uri": "https://localhost:8080/",
     "height": 84
    },
    "colab_type": "code",
    "id": "SpN70HA2H9C-",
    "outputId": "fe06da94-1ee4-48b3-8250-c19035dde1ca"
   },
   "outputs": [
    {
     "name": "stdout",
     "output_type": "stream",
     "text": [
      "order 1 ppl 794.5377104541699\n",
      "order 2 ppl 203.26492650337096\n",
      "order 3 ppl 141.22462003506539\n",
      "order 4 ppl 129.6418792167028\n"
     ]
    }
   ],
   "source": [
    "for o in [1, 2, 3, 4]:\n",
    "    lm = train_ngram_lm(data['train'], order=o)\n",
    "    print('order {} ppl {}'.format(o, compute_perplexity(lm, data['test'], vocab, order=o)))\n",
    "    "
   ]
  },
  {
   "cell_type": "markdown",
   "metadata": {
    "colab_type": "text",
    "id": "9tRCKZ5BJJOV"
   },
   "source": [
    "## Q2. Neural language models (60pts)\n"
   ]
  },
  {
   "cell_type": "markdown",
   "metadata": {
    "colab_type": "text",
    "id": "5jlXIjm6WZBE"
   },
   "source": [
    "In this part of the homework, we'll be using PyTorch to play around with neural language models. First, a quick warm up by implementing backpropagation within a *scalar* neural network. Then, you'll implement a neural language model using PyTorch's built-in modules.\n",
    "\n",
    "Firstly, run the cell below to import pytorch and set up the gradient checking functionality."
   ]
  },
  {
   "cell_type": "code",
   "execution_count": 0,
   "metadata": {
    "colab": {},
    "colab_type": "code",
    "id": "VOhQHHAPV6LD"
   },
   "outputs": [],
   "source": [
    "import torch\n",
    "import torch.nn as nn\n",
    "device = torch.device('cpu')\n",
    "\n",
    "# checks equality between your gradients and those from autograd\n",
    "def gradient_check(params, your_gradient):\n",
    "    all_good = True\n",
    "    for key in params.keys():\n",
    "        if params[key].grad.size() != your_gradient[key].size():\n",
    "            print('GRADIENT ERROR for parameter %s, SIZE ERROR\\nyour size: %s\\nactual size: %s\\n'\\\n",
    "                % (key, your_gradient[key].size(), \n",
    "                   params[key].grad.size()))\n",
    "            all_good = False\n",
    "        elif not torch.allclose(params[key].grad, your_gradient[key], atol=1e-6):\n",
    "            print('GRADIENT ERROR for parameter %s, VALUE ERROR\\nyours: %s\\nactual: %s\\n'\\\n",
    "                % (key, your_gradient[key].detach(), \n",
    "                   params[key].grad))\n",
    "            all_good = False\n",
    "            \n",
    "    return all_good"
   ]
  },
  {
   "cell_type": "markdown",
   "metadata": {
    "colab_type": "text",
    "id": "2kt0UNgpWuJ6"
   },
   "source": [
    "### Q2.1 Warm up with single neuron (5 pts)\n",
    "The below cell trains a network with scalars (i.e., single neurons) in each layer on a small dataset of ten examples. We saw a similar architecture in the class notes. All you have to do is translate the partial derivatives we computed into code. The network is defined as:\n",
    "\n",
    "<center>$\\text{h} = \\tanh(w_1 \\cdot \\text{input})$</center>\n",
    "\n",
    "<center>$\\text{pred} = \\tanh(w_2 \\cdot \\text{h})$</center>\n",
    "\n",
    "<center>$\\text{L} = 0.5 \\cdot (\\text{target} - \\text{pred})^2$</center>\n",
    "\n",
    "If you run the cell below, you should see \"GRADIENT ERRORS\". Once you implement the partial derivatives $\\frac{\\partial{L}}{\\partial{w_1}}$ and $\\frac{\\partial{L}}{\\partial{w_2}}$ correctly, you will instead see a \"SUCCESS\" message. **Do NOT modify any code outside of the block marked \"IMPLEMENT BACKPROP HERE\"!**\n",
    "\n",
    "\n"
   ]
  },
  {
   "cell_type": "code",
   "execution_count": 0,
   "metadata": {
    "colab": {
     "base_uri": "https://localhost:8080/",
     "height": 34
    },
    "colab_type": "code",
    "id": "HfLgwTNYWGt3",
    "outputId": "b85d7f42-89ef-48a8-a7bf-07634573f7c3"
   },
   "outputs": [
    {
     "name": "stdout",
     "output_type": "stream",
     "text": [
      "SUCCESS! you passed the gradient check.\n"
     ]
    }
   ],
   "source": [
    "# initialize model parameters\n",
    "params = {}\n",
    "params['w1'] = torch.randn(1, 1, requires_grad=True) # input > hidden with scalar weight w1\n",
    "params['w2'] = torch.randn(1, 1, requires_grad=True) # hidden > output with scalar weight w2\n",
    "\n",
    "# set up some training data\n",
    "inputs = torch.randn(20, 1)\n",
    "targets = inputs / 2\n",
    "\n",
    "# training loop\n",
    "all_good = True\n",
    "for i in range(len(inputs)):\n",
    "    \n",
    "    ## forward prop, then compute loss.\n",
    "    a = params['w1'] * inputs[i] # intermediate variable, following lecture notes\n",
    "    hidden = torch.tanh(a)\n",
    "    b = params['w2'] * hidden\n",
    "    pred = torch.tanh(b)\n",
    "    loss = 0.5 * (targets[i] - pred) ** 2 # compute square loss\n",
    "    loss.backward() # runs autograd\n",
    "    \n",
    "    \n",
    "    ####################\n",
    "    # TODO: IMPLEMENT BACKPROP HERE\n",
    "    # DO NOT MODIFY ANY CODE OUTSIDE OF THIS BLOCK!!!!\n",
    "    your_gradient = {}\n",
    "    your_gradient['w1'] = torch.zeros(params['w1'].size()) # implement dL/dw1\n",
    "    your_gradient['w2'] = torch.zeros(params['w2'].size()) # implement dL/dw2\n",
    "    \n",
    "    # IMEPLEMENT ME!\n",
    "    dh_w1 = (1 - torch.tanh(a) ** 2) * inputs[i]\n",
    "    dpred_w1 = (1 - torch.tanh(b) ** 2) * params['w2'] * dh_w1\n",
    "    your_gradient['w1'] = -1 * (targets[i] - pred) * dpred_w1\n",
    "    \n",
    "    dpred_w2 = (1 - torch.tanh(b) ** 2) * hidden\n",
    "    your_gradient['w2'] = -1 * (targets[i] - pred) * dpred_w2\n",
    "    # END \n",
    "    ####################\n",
    "    \n",
    "    if not gradient_check(params, your_gradient):\n",
    "        all_good = False\n",
    "        break\n",
    "    \n",
    "    # zero gradients after each training example\n",
    "    params['w1'].grad.zero_()\n",
    "    params['w2'].grad.zero_() \n",
    "    \n",
    "if all_good:\n",
    "    print('SUCCESS! you passed the gradient check.')"
   ]
  },
  {
   "cell_type": "markdown",
   "metadata": {
    "colab_type": "text",
    "id": "c5bzxVSAOPUn"
   },
   "source": [
    "### Q2.2 RNN language model (10 pts)\n",
    "\n",
    "For this part of the homework, we will use **PyTorch** to build our model. The below cell preprocesses the raw text so you can load it directly. The input to your model is a *minibatch* of sequences which takes the form of a  $N \\times L$ matrix  where $N$ is the batch size and $L$ is the maximum sequence length. For each minibatch, your models should produce an $N \\times L \\times V$ tensor where $V$ is the size of the vocabulary. This tensor stores the predicted probability distribution of the next word for every position of every sequence in the batch. Note that each batch is padded to dimensionality $L=40$ using the special padding token <*pad>*; similarly, each sequence begins with the <*bos>* token and ends with the <*eos>* token. Please look at the PyTorch RNN documentation if you're having problems getting started: https://pytorch.org/docs/stable/nn.html#rnn\n",
    "\n",
    "Firstly run the cell below to download the data. **If you see \"device: cpu\", please change your Colab runtime to the GPU backend by going to \"Runtime > Change runtime type > Hardware accelerator > GPU\"**"
   ]
  },
  {
   "cell_type": "code",
   "execution_count": 0,
   "metadata": {
    "colab": {
     "base_uri": "https://localhost:8080/",
     "height": 252
    },
    "colab_type": "code",
    "id": "xtOZWDtTSCAG",
    "outputId": "fbf317f6-8b4a-44f1-f9e7-03e46a54bb16"
   },
   "outputs": [
    {
     "name": "stdout",
     "output_type": "stream",
     "text": [
      "device:  cuda:0\n",
      "Wikitext data downloaded!\n",
      "There are 28654 words in vocabulary\n",
      "Word id 0 stands for '<pad>'\n",
      "Word id 1 stands for '<unk>'\n",
      "Word id 2 stands for '<bos>'\n",
      "Word id 3 stands for '<eos>'\n",
      "Word id 4 stands for 'the'\n",
      "Word id 5 stands for ','\n",
      "Word id 6 stands for '.'\n",
      "Word id 7 stands for 'of'\n",
      "...\n",
      "tensor(1622368, device='cuda:0')\n",
      "Set up finished\n"
     ]
    }
   ],
   "source": [
    "import torch, pickle, os, sys, random, time\n",
    "from torch import nn, optim\n",
    "\n",
    "device = torch.device(\"cuda:0\" if torch.cuda.is_available() else \"cpu\")\n",
    "print('device: ', device)\n",
    "\n",
    "# Download id2word\n",
    "f_wikitext = drive.CreateFile({'id': '1fBS7PyEOeQMuH5Ea1_hnEjU3PmFE7ZZc'})\n",
    "f_wikitext.GetContentFile('./wikitext.pkl') \n",
    "with open('./wikitext.pkl', 'rb') as f_in:\n",
    "  wikitext = pickle.load(f_in)\n",
    "  \n",
    "wikitext['train'] = torch.LongTensor(wikitext['train']).to(device)\n",
    "wikitext['dev'] = torch.LongTensor(wikitext['valid']).to(device)\n",
    "wikitext['test'] = torch.LongTensor(wikitext['test']).to(device)\n",
    "idx_to_word = wikitext['id2word']\n",
    "word_to_idx = {idx_to_word[k]: k for k in idx_to_word}\n",
    "\n",
    "\n",
    "print(\"Wikitext data downloaded!\")\n",
    "# Demonstrate id2word\n",
    "print('There are ' + str(len(idx_to_word)) + ' words in vocabulary')\n",
    "for id in range(8):\n",
    "  print('Word id ' + str(id) + \" stands for '\" + str(idx_to_word[id]) + \"\\'\")\n",
    "print('...')\n",
    "print((wikitext['train'] > 0).sum())\n",
    "    \n",
    "print('Set up finished')"
   ]
  },
  {
   "cell_type": "markdown",
   "metadata": {
    "colab_type": "text",
    "id": "x_3C-13G_m2Q"
   },
   "source": [
    "The following cell contains code for computing perplexity and training the neural language model. Run the cell, and please make sure you (at least roughly) understand what is happening, but **do not modify any part of it**."
   ]
  },
  {
   "cell_type": "code",
   "execution_count": 0,
   "metadata": {
    "colab": {},
    "colab_type": "code",
    "id": "onfjIrblON0g"
   },
   "outputs": [],
   "source": [
    "# function to evaluate LM perplexity on some input data, DO NOT MODIFY\n",
    "def compute_perplexity(dataset, net, bsz=64):\n",
    "    criterion = nn.CrossEntropyLoss(ignore_index=0, reduction='sum')\n",
    "    num_examples, seq_len = dataset.size()\n",
    "    \n",
    "    # we'll still use batches b/c we can't fit the whole\n",
    "    # validation set into GPU memory\n",
    "    batches = [(start, start + bsz) for start in\\\n",
    "               range(0, num_examples, bsz)]\n",
    "    \n",
    "    total_unmasked_tokens = 0. # count how many unpadded tokens there are\n",
    "    nll = 0.\n",
    "    for b_idx, (start, end) in enumerate(batches):\n",
    "            \n",
    "        batch = dataset[start:end]\n",
    "        ut = torch.nonzero(batch).size(0)\n",
    "        preds = net(batch)\n",
    "        targets = batch[:, 1:].contiguous().view(-1)\n",
    "        preds = preds[:, :-1, :].contiguous().view(-1, net.vocab_size)\n",
    "        loss = criterion(preds, targets)\n",
    "        nll += loss.detach()\n",
    "        total_unmasked_tokens += ut\n",
    "\n",
    "    perplexity = torch.exp(nll / total_unmasked_tokens).cpu()\n",
    "    return perplexity.data\n",
    "    \n",
    "\n",
    "# training loop for language models, DO NOT MODIFY!\n",
    "def train_lm(dataset, params, net):\n",
    "    \n",
    "    # since the first index corresponds to the PAD token, we just ignore it\n",
    "    # when computing the loss\n",
    "    criterion = nn.CrossEntropyLoss(ignore_index=0)\n",
    "    \n",
    "    optimizer = optim.Adam(net.parameters(), lr=params['learning_rate'])\n",
    "    num_examples, seq_len = dataset.size()    \n",
    "    batches = [(start, start + params['batch_size']) for start in\\\n",
    "               range(0, num_examples, params['batch_size'])]\n",
    "    \n",
    "    for epoch in range(params['epochs']):\n",
    "        ep_loss = 0.\n",
    "        start_time = time.time()\n",
    "        random.shuffle(batches)\n",
    "        net.train()\n",
    "        # for each batch, calculate loss and optimize model parameters            \n",
    "        for b_idx, (start, end) in enumerate(batches):\n",
    "                        \n",
    "            batch = dataset[start:end]\n",
    "            preds = net(batch)\n",
    "\n",
    "            preds = preds[:, :-1, :].contiguous().view(-1, net.vocab_size)\n",
    "            # q1.1: explain the below line!\n",
    "            targets = batch[:, 1:].contiguous().view(-1)\n",
    "            loss = criterion(preds, targets)\n",
    "            \n",
    "            loss.backward()\n",
    "            torch.nn.utils.clip_grad_norm_(net.parameters(), 3)\n",
    "            optimizer.step()\n",
    "            optimizer.zero_grad()\n",
    "            ep_loss += loss\n",
    "        \n",
    "        net.eval()\n",
    "        print('epoch: %d, loss: %0.2f, time: %0.2f sec, dev perplexity: %0.2f' %\\\n",
    "              (epoch, ep_loss, time.time()-start_time, compute_perplexity(wikitext['dev'], net)))"
   ]
  },
  {
   "cell_type": "markdown",
   "metadata": {
    "colab_type": "text",
    "id": "PVwFC8cHLWye"
   },
   "source": [
    "Now implement the following class, which defines a recurrent neural language model, by filling in the __forward__ function."
   ]
  },
  {
   "cell_type": "code",
   "execution_count": 0,
   "metadata": {
    "colab": {},
    "colab_type": "code",
    "id": "IBC5pTTgIBVH"
   },
   "outputs": [],
   "source": [
    "class RNNLM(nn.Module):\n",
    "    def __init__(self, params):\n",
    "        super(RNNLM, self).__init__()\n",
    "        self.vocab_size = params['vocab_size']\n",
    "        self.d_emb = params['d_emb']\n",
    "        self.d_hid = params['d_hid']\n",
    "        self.n_layer = 1\n",
    "        self.batch_size = params['batch_size']\n",
    "        \n",
    "        self.encoder = nn.Embedding(self.vocab_size, self.d_emb)\n",
    "        self.rnn = nn.RNN(self.d_emb, self.d_hid, self.n_layer, batch_first=True)\n",
    "        self.decoder = nn.Linear(self.d_hid, self.vocab_size)\n",
    "        \n",
    "    def forward(self, batch):\n",
    "        \"\"\"\n",
    "            IMPLEMENT ME!\n",
    "            Encode the data using the embedding layer you initialized.\n",
    "            Pass the encoded data and hidden states to your RNN.\n",
    "            Return unnormalized logits for each token's prediction.\n",
    "            \n",
    "            Why just logits? Check the document of torch.nn.CrossEntropyLoss,\n",
    "            since it combines nn.LogSoftmax() and nn.NLLLoss(), \n",
    "            you don't need to explicitly use the softmax function!\n",
    "        \"\"\"\n",
    "        batch_size, seq_len= batch.shape\n",
    "        hidden = (torch.zeros(self.n_layer, batch_size, self.d_hid).to(device))\n",
    "        embedded_input = self.encoder(batch)\n",
    "        output, hidden = self.rnn(embedded_input)\n",
    "        decoded_output = self.decoder(output)\n",
    "        # scores = torch.nn.CrossEntropyLoss(decoded_output)\n",
    "        return decoded_output\n"
   ]
  },
  {
   "cell_type": "markdown",
   "metadata": {
    "colab_type": "text",
    "id": "LfzBU3SCWIso"
   },
   "source": [
    "Run the following cell to test that your implementation is at least returning tensors of the proper dimensionality. Note that this is just a sanity check to help you develop. Your RNNLM might still be implemented incorrectly even if it passes. You will have to obtain a reasonable perplexity after training on WikiText to be certain that you've done it right."
   ]
  },
  {
   "cell_type": "code",
   "execution_count": 0,
   "metadata": {
    "colab": {
     "base_uri": "https://localhost:8080/",
     "height": 34
    },
    "colab_type": "code",
    "id": "wv3NEVi7AaCE",
    "outputId": "3c1d315d-c7a4-402c-c7b1-d47448a6adeb"
   },
   "outputs": [
    {
     "name": "stdout",
     "output_type": "stream",
     "text": [
      "Congratulations, you passed the RNNLM test!\n"
     ]
    }
   ],
   "source": [
    "def test_RNNLM():\n",
    "    test_batch = torch.LongTensor(5, 4).random_(0, 10).to(device)\n",
    "    params = {}\n",
    "    params['vocab_size'] = len(idx_to_word)\n",
    "    params['d_emb'] = 8\n",
    "    params['d_hid'] = 8\n",
    "    params['batch_size'] = 5\n",
    "    testnet = RNNLM(params)\n",
    "    testnet.to(device)\n",
    "    test_output = testnet(test_batch)\n",
    "    assert test_output.shape[0] == params['batch_size'], \"size of dimension 0 is incorrect, expect %i but got %i\" % \\\n",
    "                                                          (params['batch_size'], test_output.shape[0])\n",
    "    assert test_output.shape[1] == test_batch.shape[1], \"size of dimension 1 is incorrect, expect %i but got %i\" % \\\n",
    "                                                          (test_batch.shape[1], test_output.shape[1])\n",
    "    assert test_output.shape[2] == params['vocab_size'], \"size of dimension 2 is incorrect, expect %i but got %i\" % \\\n",
    "                                                          (params['vocab_size'], test_output.shape[2])\n",
    "    print(\"Congratulations, you passed the RNNLM test!\")\n",
    "test_RNNLM()"
   ]
  },
  {
   "cell_type": "markdown",
   "metadata": {
    "colab_type": "text",
    "id": "7li14NHkLimS"
   },
   "source": [
    "Once you pass the above test, train your RNNLM model on WikiText by running the below cell. It should take a couple minutes per epoch."
   ]
  },
  {
   "cell_type": "code",
   "execution_count": 0,
   "metadata": {
    "colab": {
     "base_uri": "https://localhost:8080/",
     "height": 101
    },
    "colab_type": "code",
    "id": "tGvKkmqMET1w",
    "outputId": "1002a749-1650-4735-de76-02bbcc1962ac"
   },
   "outputs": [
    {
     "name": "stdout",
     "output_type": "stream",
     "text": [
      "epoch: 0, loss: 6410.59, time: 97.68 sec, dev perplexity: 185.72\n",
      "epoch: 1, loss: 5667.06, time: 97.68 sec, dev perplexity: 156.67\n",
      "epoch: 2, loss: 5319.58, time: 97.84 sec, dev perplexity: 148.48\n",
      "epoch: 3, loss: 5065.57, time: 97.80 sec, dev perplexity: 147.22\n",
      "epoch: 4, loss: 4858.05, time: 97.94 sec, dev perplexity: 147.93\n"
     ]
    }
   ],
   "source": [
    "# DO NOT CHANGE THESE HYPERPARAMETERS, WE WILL CHECK!\n",
    "params = {}\n",
    "params['vocab_size'] = len(idx_to_word)\n",
    "params['d_emb'] = 512\n",
    "params['d_hid'] = 256\n",
    "params['batch_size'] = 64\n",
    "params['epochs'] = 5\n",
    "params['learning_rate'] = 0.001\n",
    "\n",
    "RNNnet = RNNLM(params)\n",
    "RNNnet.to(device)\n",
    "train_lm(wikitext['train'], params, RNNnet)"
   ]
  },
  {
   "cell_type": "markdown",
   "metadata": {
    "colab_type": "text",
    "id": "jwNvc39bLnqY"
   },
   "source": [
    "After training is finished, run the below cell to get the perplexity on the test set. If you did it right, your perplexity should be around 135-140."
   ]
  },
  {
   "cell_type": "code",
   "execution_count": 0,
   "metadata": {
    "colab": {
     "base_uri": "https://localhost:8080/",
     "height": 34
    },
    "colab_type": "code",
    "id": "xD6NYw62St2J",
    "outputId": "b4debf61-e82b-420d-ceaa-396c6b315246"
   },
   "outputs": [
    {
     "name": "stdout",
     "output_type": "stream",
     "text": [
      "test perplexity: 137.40\n"
     ]
    }
   ],
   "source": [
    "RNNnet.eval() # we're no longer training the network\n",
    "print('%s perplexity: %0.2f' % ('test', compute_perplexity(wikitext['test'], RNNnet)))"
   ]
  },
  {
   "cell_type": "markdown",
   "metadata": {
    "colab_type": "text",
    "id": "DqYr-aIXUsU-"
   },
   "source": [
    "### Q2.3 Explain the code (5 pts)\n",
    "\n",
    "These lines in the provided **compute_perplexity** function: \n",
    "\n",
    "```\n",
    "            preds = preds[:, :-1, :].contiguous().view(-1, net.vocab_size)\n",
    "            targets = batch[:, 1:].contiguous().view(-1)\n",
    "            loss = criterion(preds, targets)\n",
    "```\n",
    "\n",
    "Look at the documentation of the CrossEntropyLoss criterion [here](https://pytorch.org/docs/stable/nn.html#crossentropyloss). Then, explain what these lines accomplish by answering the following question:\n",
    "\n",
    "*   What does the indexing in front of *batch* accomplish in the second line? Why can't we just use the *batch* variable as the target? (5 pts)\n",
    "\n",
    "  * The indexing in front of *batch* removes the *\\<bos\\>* token which pads the start of a sequence. This is because, the *CrossEntropyLoss* criterion as per its documentation calculates the loss based on the class of the target, where the *\\<bos\\>* token bring in noise to the error computed. Also the documentation expects the target class indexes in the range of [0,C-1]. Thus using the batch variable directly as the target will obtain incorrect results, as the probability distribution of the words will be shifted with the presence of the *\\<bos\\>* token that affects the probability of the successive word.\n",
    "\n"
   ]
  },
  {
   "cell_type": "markdown",
   "metadata": {
    "colab_type": "text",
    "id": "lKu_fZJ6VUL8"
   },
   "source": [
    "### Q2.4 Neural Language Model with attention (25 pts)\n",
    "\n",
    "Only start working on this after you've correctly implemented the RNNLM in the previous problem, as you'll want to copy over some code here. \n",
    "Complete the foward function of both the **ATTNLM** and **Attention** modules by following the instructions in the comment block. **Each epoch may take 3-5 minutes to run, so start early!**"
   ]
  },
  {
   "cell_type": "code",
   "execution_count": 0,
   "metadata": {
    "colab": {},
    "colab_type": "code",
    "id": "Ja339lSzVajG"
   },
   "outputs": [],
   "source": [
    "# An RNN language model with attention, you implement this!\n",
    "class ATTNLM(nn.Module):\n",
    "    def __init__(self, params):\n",
    "        super(ATTNLM, self).__init__()\n",
    "        \n",
    "        self.vocab_size = params['vocab_size']\n",
    "        self.d_emb = params['d_emb']\n",
    "        self.d_hid = params['d_hid']\n",
    "        self.n_layer = 1\n",
    "        self.btz = params['batch_size']\n",
    "        \n",
    "        self.encoder = nn.Embedding(self.vocab_size, self.d_emb)\n",
    "        self.attn = Attention(self.d_hid)\n",
    "        self.rnn = nn.RNN(self.d_emb, self.d_hid, self.n_layer, batch_first=True)\n",
    "        # the combined_W maps the combined hidden states and context vectors to d_hid \n",
    "        self.combined_W = nn.Linear(self.d_hid * 2, self.d_hid)\n",
    "        self.decoder = nn.Linear(self.d_hid, self.vocab_size)\n",
    "        \n",
    "\n",
    "    def forward(self, batch, return_attn_weights=False):\n",
    "        \n",
    "        \"\"\"\n",
    "            IMPLEMENT ME!\n",
    "            Copy your implementation of RNNLM, make sure it passes the RNNLM check\n",
    "            In addition to that, you need to add the following 3 things\n",
    "            1. pass rnn output to attention module, get context vectors and attention weights\n",
    "            2. concatenate the context vec and rnn output, pass the combined\n",
    "               vector to the layer dealing with the combined vectors (self.combined_W)\n",
    "            3. if return_attn_weights, instead of return the [N, L, V]\n",
    "               matrix, return the attention weight matrix\n",
    "               of dimension [N, L, L] which returned from the forrward function of Attnetion module\n",
    "        \"\"\"\n",
    "        batch_size, seq_len= batch.shape\n",
    "        \n",
    "        hidden = torch.zeros(self.n_layer, batch_size, self.d_hid).to(device)\n",
    "\n",
    "        embedded_input = self.encoder(batch)\n",
    "        output, hidden = self.rnn(embedded_input)\n",
    "        context_vec, attn_wgt = self.attn(output)\n",
    "\n",
    "        if not return_attn_weights:\n",
    "          comb_inp = torch.cat((context_vec, output), 2)\n",
    "          comb_out = self.combined_W(comb_inp)\n",
    "          y_pred = self.decoder(comb_out)\n",
    "        else:\n",
    "          y_pred = attn_wgt\n",
    "\n",
    "        return y_pred\n",
    "\n",
    "class Attention(nn.Module):\n",
    "    def __init__(self, d_hidden):\n",
    "        super(Attention, self).__init__()\n",
    "        self.linear_w1 = nn.Linear(d_hidden, d_hidden)\n",
    "        self.linear_w2 = nn.Linear(d_hidden, 1)\n",
    "        \n",
    "    \n",
    "    def forward(self, x):\n",
    "      \n",
    "        \"\"\"\n",
    "            IMPLEMENT ME!\n",
    "            For each time step t\n",
    "                1. Obtain attention scores for step 0 to (t-1)\n",
    "                   This should be a dot product between current hidden state (x[:,t:t+1,:])\n",
    "                   and all previous states x[:, :t, :]. While t=0, since there is not\n",
    "                   previous context, the context vector and attention weights should be of zeros.\n",
    "                   You might find torch.bmm useful for computing over the whole batch.\n",
    "                2. Turn the scores you get for 0 to (t-1) steps to a distribution.\n",
    "                   You might find F.softmax to be helpful.\n",
    "                3. Obtain the sum of hidden states weighted by the attention distribution\n",
    "            Concat the context vector you get in step 3. to a matrix.\n",
    "            \n",
    "            Also remember to store the attention weights, the attention matrix \n",
    "            for each training instance should be a lower triangular matrix. Specifically,\n",
    "            each row, element 0 to t-1 should sum to 1, the rest should be padded with 0.\n",
    "            e.g. \n",
    "            [ [0.0000, 0.0000, 0.0000, 0.0000],\n",
    "              [1.0000, 0.0000, 0.0000, 0.0000],\n",
    "              [0.4246, 0.5754, 0.0000, 0.0000],\n",
    "              [0.2798, 0.3792, 0.3409, 0.0000] ]\n",
    "            \n",
    "            Return the context vector matrix and the attention weight matrix\n",
    "            \n",
    "        \"\"\"\n",
    "        batch_size, batch_seq_len, vocab_len = x.shape\n",
    "        \n",
    "        attn_weights = torch.zeros(batch_size, batch_seq_len, batch_seq_len)\n",
    "        context_vectors = torch.zeros(batch_size, batch_seq_len, vocab_len)\n",
    "       \n",
    "        attn_scores = torch.bmm(x.clone(), x.clone().permute(0,2,1))\n",
    "        attn_scores = torch.tril(attn_scores, diagonal=-1)\n",
    "        attn_scores[attn_scores == 0] = -1e6  # setting v small value\n",
    "        attn_scores = F.softmax(attn_scores, dim=2)\n",
    "        attn_weights = torch.tril(attn_scores, diagonal=-1)\n",
    "\n",
    "        context_vectors = torch.bmm(attn_weights.clone(), x.clone())\n",
    "        \n",
    "        return context_vectors, attn_weights"
   ]
  },
  {
   "cell_type": "markdown",
   "metadata": {
    "colab_type": "text",
    "id": "nqyjOwGz8Y6b"
   },
   "source": [
    "Run the following cell to sanity check your implementation; do not continue until you pass all of the tests!"
   ]
  },
  {
   "cell_type": "code",
   "execution_count": 0,
   "metadata": {
    "colab": {
     "base_uri": "https://localhost:8080/",
     "height": 34
    },
    "colab_type": "code",
    "id": "_0-MHHC2KYv8",
    "outputId": "dd4d4ffb-4b64-4476-ecd4-f9b5b30158d3"
   },
   "outputs": [
    {
     "name": "stdout",
     "output_type": "stream",
     "text": [
      "Congratulations, you passed the ATTNLM test!\n"
     ]
    }
   ],
   "source": [
    "def test_ATTNLM():\n",
    "    test_batch = torch.LongTensor(5, 4).random_(0, 10).to(device)\n",
    "    params = {}\n",
    "    params['vocab_size'] = len(idx_to_word)\n",
    "    params['d_emb'] = 8\n",
    "    params['d_hid'] = 8\n",
    "    params['batch_size'] = 5\n",
    "    testnet = ATTNLM(params)\n",
    "    testnet.to(device)\n",
    "    test_output = testnet(test_batch)\n",
    "    assert test_output.shape[0] == params['batch_size'], \"size of dimension 0 is incorrect, expect %i but got %i\" % \\\n",
    "                                                          (params['batch_size'], test_output.shape[0])\n",
    "    assert test_output.shape[1] == test_batch.shape[1], \"size of dimension 1 is incorrect, expect %i but got %i\" % \\\n",
    "                                                          (test_batch.shape[1], test_output.shape[1])\n",
    "    assert test_output.shape[2] == params['vocab_size'], \"size of dimension 2 is incorrect, expect %i but got %i\" % \\\n",
    "                                                          (params['vocab_size'], test_output.shape[2])\n",
    "    testnet = ATTNLM(params)\n",
    "    testnet.to(device)\n",
    "    test_output = testnet(test_batch, return_attn_weights=True)\n",
    "    assert test_output.shape[0] == params['batch_size'], \"size of dimension 0 is incorrect, expect %i but got %i\" % \\\n",
    "                                                          (params['batch_size'], test_output.shape[0])\n",
    "    assert test_output.shape[1] == test_batch.shape[1], \"size of dimension 1 is incorrect, expect %i but got %i\" % \\\n",
    "                                                          (test_batch.shape[1], test_output.shape[1])\n",
    "    assert test_output.shape[2] == test_batch.shape[1], \"size of dimension 2 is incorrect, expect %i but got %i\" % \\\n",
    "                                                          (test_batch.shape[1], test_output.shape[2])\n",
    "    prob_dist = torch.sum(test_output, dim=2)[:, 1:]\n",
    "    assert all([x > 0.99 and x < 1.01 for x in prob_dist.reshape(-1)]), \"attention weights not properly normalized, got {}\".format(prob_dist)\n",
    "    print(\"Congratulations, you passed the ATTNLM test!\")\n",
    "\n",
    "test_ATTNLM()"
   ]
  },
  {
   "cell_type": "markdown",
   "metadata": {
    "colab_type": "text",
    "id": "vRxeoJW3Ltzk"
   },
   "source": [
    "Now, train your ATTNLM model on WikiText by running the below cell. If the perplexity on dev set is `nan` or `inf`, it is likely the model has corrupted due to gradient exploding/vanishing or other numerical instability issue, stop this cell and run it again."
   ]
  },
  {
   "cell_type": "code",
   "execution_count": 0,
   "metadata": {
    "colab": {
     "base_uri": "https://localhost:8080/",
     "height": 118
    },
    "colab_type": "code",
    "id": "81LKL_7pKYAC",
    "outputId": "d1f10b9f-24f3-48d5-e69d-2e4843b0ec08"
   },
   "outputs": [
    {
     "name": "stdout",
     "output_type": "stream",
     "text": [
      "epoch: 0, loss: 6532.14, time: 100.19 sec, dev perplexity: 206.09\n",
      "epoch: 1, loss: 5889.90, time: 100.27 sec, dev perplexity: 174.33\n",
      "epoch: 2, loss: 5599.99, time: 100.21 sec, dev perplexity: 161.79\n",
      "epoch: 3, loss: 5365.44, time: 100.29 sec, dev perplexity: 153.47\n",
      "epoch: 4, loss: 5158.72, time: 100.43 sec, dev perplexity: 153.71\n",
      "epoch: 5, loss: 4973.99, time: 100.33 sec, dev perplexity: 153.40\n"
     ]
    }
   ],
   "source": [
    "# DO NOT CHANGE THESE HYPERPARAMETERS, WE WILL CHECK!\n",
    "params = {}\n",
    "params['vocab_size'] = len(idx_to_word)\n",
    "params['d_emb'] = 512\n",
    "params['d_hid'] = 256\n",
    "params['n_layer'] = 1\n",
    "params['batch_size'] = 64\n",
    "params['epochs'] = 6\n",
    "params['learning_rate'] = 0.0005\n",
    "\n",
    "ATTNnet = ATTNLM(params)\n",
    "ATTNnet.cuda()\n",
    "train_lm(wikitext['train'], params, ATTNnet)"
   ]
  },
  {
   "cell_type": "markdown",
   "metadata": {
    "colab_type": "text",
    "id": "ENa03ZlJLyFF"
   },
   "source": [
    "Finally, compute the perplexity on the test set. If you implemented it correctly, you should get a perplexity of around 145-150. Due to random effects, it is possible to get perplexity slightly lower than 145. Make sure you didn't add any additional nonlinearity operation which can lead to lower perplexity."
   ]
  },
  {
   "cell_type": "code",
   "execution_count": 0,
   "metadata": {
    "colab": {
     "base_uri": "https://localhost:8080/",
     "height": 34
    },
    "colab_type": "code",
    "id": "LoOvc6quW0Ef",
    "outputId": "c44234d1-8dc3-4ca3-9b72-89b094e18bf5"
   },
   "outputs": [
    {
     "name": "stdout",
     "output_type": "stream",
     "text": [
      "test perplexity: 143.36\n"
     ]
    }
   ],
   "source": [
    "ATTNnet.eval() # we're no longer training the network\n",
    "print('%s perplexity: %0.2f' % ('test', compute_perplexity(wikitext['test'], ATTNnet)))"
   ]
  },
  {
   "cell_type": "markdown",
   "metadata": {
    "colab_type": "text",
    "id": "4eSJQCTtCgcb"
   },
   "source": [
    "### Q2.5 Explain the results (5 pts)\n",
    "\n",
    "If you implemented this correctly, you should notice a similar (or slightly higher) perplexity for the ATTNLM than for RNNLM. Considering attention is supposed to be a net improvement for RNN-type models, give two possible reasons why the ATTNLM's perplexity isn't significantly lower.\n",
    "\n",
    "  * Attention based Language Models usually require a significantly bigger amount of training data set to better predict the next token based on the context of the previous words. Compared to an RNNLM which doesn't use attention, it considers the entire probability distribution set and in case of a small input data set, its likely that the perplexity of the ATTNLM isn't significantly lower than the RNNLM.\n",
    "  * In the provided case, the RNN language model might have better parameters as compared to the ATTNLM language model. Such as the learning rate for the RNNLM greater than that of the ATTNLM, which implies that the ATTNLM model may achieve better optimization with smaller step sizes while optimizing the loss, but it takes more time in finding the optimal solution compared to the RNN. Hence comparison of the two models after the same number of epochs might not provide us with a good judgement as the ATTNLM model might have a better model in a futher more epochs later."
   ]
  },
  {
   "cell_type": "markdown",
   "metadata": {
    "colab_type": "text",
    "id": "TCyBN6KtEpLy"
   },
   "source": [
    "### Q2.6 Generate text from the neural LMs (5 pts)\n",
    "Run the below cell to generate some text from your RNNLM and ATTNLM."
   ]
  },
  {
   "cell_type": "code",
   "execution_count": 0,
   "metadata": {
    "colab": {
     "base_uri": "https://localhost:8080/",
     "height": 34
    },
    "colab_type": "code",
    "id": "fkzzhEYCCY5A",
    "outputId": "c285f981-5857-43d7-9ed7-302af32c0766"
   },
   "outputs": [
    {
     "name": "stdout",
     "output_type": "stream",
     "text": [
      "rnn completion:  he is the four @-@ relief hull .\n"
     ]
    }
   ],
   "source": [
    "def sample_from_lm(net, context, max_words=50):\n",
    "  \n",
    "    with torch.no_grad():\n",
    "        for i in range(max_words):\n",
    "            data = torch.LongTensor([context]).to(device)\n",
    "            decoded = net(data)\n",
    "            decoded = decoded[0, -1].exp().cpu()\n",
    "            w_i = torch.multinomial(decoded, 1)[0].item()\n",
    "            if w_i in [1, 2, 3]:\n",
    "                continue\n",
    "            context.append(w_i)\n",
    "\n",
    "        return context\n",
    "\n",
    "word_to_idx = dict((v,k) for (k,v) in idx_to_word.items())\n",
    "context = [word_to_idx[w] for w in 'he is the '.split()]\n",
    "\n",
    "rnn_completion = sample_from_lm(RNNnet, context)\n",
    "print('rnn completion: ', ' '.join([idx_to_word[w] for w in rnn_completion]))"
   ]
  },
  {
   "cell_type": "code",
   "execution_count": 0,
   "metadata": {
    "colab": {
     "base_uri": "https://localhost:8080/",
     "height": 34
    },
    "colab_type": "code",
    "id": "QYg9ki0dYoyi",
    "outputId": "e4b9bc13-c2cd-4cc4-f3e6-508248301637"
   },
   "outputs": [
    {
     "name": "stdout",
     "output_type": "stream",
     "text": [
      "attention rnn completion:  he is the second national football league cup .\n"
     ]
    }
   ],
   "source": [
    "word_to_idx = dict((v,k) for (k,v) in idx_to_word.items())\n",
    "context = [word_to_idx[w] for w in 'he is the '.split()]\n",
    "\n",
    "rnn_completion = sample_from_lm(ATTNnet, context)\n",
    "print('attention rnn completion: ', ' '.join([idx_to_word[w] for w in rnn_completion]))"
   ]
  },
  {
   "cell_type": "markdown",
   "metadata": {
    "colab_type": "text",
    "id": "KU63vLoNE76l"
   },
   "source": [
    "Do you notice any differences in coherence or grammaticality compared to the n-gram models? What about any differences between the RNNLM and the ATTNLM? If you observed any distinct differences, explain why you think they exist; if not, explain why all of the outputs appear to be of similar quality.\n",
    "  * The sentences generated by the n-gram models were highly inconsistent with their grammatical sense as well as the syntaxes were completely off. Though some runs did show better sentence formulations, but it lasted only for a couple of words beyond which it becomes non sensible. Whereas the RNNLM and the ATTNLM models show better consistency in grammatical senses, though as can be seen it too sometimes throws words out of context which ruin the flow of the sentence. The sentences produced by the RNNLM and the ATTNLM as can be seen, show more apt sentences in case of the ATTNLM as compared to the RNNLM. On multiple runs though we see, that the sentences generated were of highly similar quality. This is due to the small size of the training data set which incurs a higher relation to the probability distribution of the words associated with its context.The ATTNLM model should show distinct differences compared to the RNNLM since the attention models are better capable of understanding the meaning of the entire sentence as compared to RNN language models which tries to consider every word possibility."
   ]
  },
  {
   "cell_type": "markdown",
   "metadata": {
    "colab_type": "text",
    "id": "xBGJPkitfizQ"
   },
   "source": [
    "### Q2.7 Interpreting attention (5 pts)\n",
    "Finally, let's visualize some attention heatmaps by running the below two cells. "
   ]
  },
  {
   "cell_type": "code",
   "execution_count": 0,
   "metadata": {
    "colab": {
     "base_uri": "https://localhost:8080/",
     "height": 297
    },
    "colab_type": "code",
    "id": "jXykMRedFfE2",
    "outputId": "496592b1-4183-4d3e-e87d-64504c302318"
   },
   "outputs": [
    {
     "data": {
      "image/png": "[encoded data removed]",
      "text/plain": [
       "<Figure size 432x288 with 1 Axes>"
      ]
     },
     "metadata": {
      "tags": []
     },
     "output_type": "display_data"
    }
   ],
   "source": [
    "def plot_attn_heatmap(sent):\n",
    "  \n",
    "    sent_in_id = [word_to_idx[w] for w in sent.split()]\n",
    "\n",
    "    with torch.no_grad():\n",
    "        data = torch.LongTensor([sent_in_id]).to(device)\n",
    "        weights = ATTNnet(data, return_attn_weights=True)\n",
    "    \n",
    "    fig, ax = plt.subplots()\n",
    "\n",
    "    sent_sp = sent.split()\n",
    "    ax.set_xticks(np.arange(len(sent_sp)))\n",
    "    ax.set_yticks(np.arange(len(sent_sp)))\n",
    "    ax.set_xticklabels(sent_sp)\n",
    "    ax.set_yticklabels(sent_sp)\n",
    "    plt.setp(ax.get_xticklabels(), rotation=45, ha='right', rotation_mode=\"anchor\")\n",
    "\n",
    "    plt.imshow(weights[0, :].cpu())\n",
    "\n",
    "sent = \"top warning signs earth is warming , according to experts\"\n",
    "plot_attn_heatmap(sent)"
   ]
  },
  {
   "cell_type": "code",
   "execution_count": 0,
   "metadata": {
    "colab": {
     "base_uri": "https://localhost:8080/",
     "height": 290
    },
    "colab_type": "code",
    "id": "szDBrOdpFflZ",
    "outputId": "e224af90-6c1c-41ce-8bab-3f682463045d"
   },
   "outputs": [
    {
     "data": {
      "image/png": "[encoded data removed]",
      "text/plain": [
       "<Figure size 432x288 with 1 Axes>"
      ]
     },
     "metadata": {
      "tags": []
     },
     "output_type": "display_data"
    }
   ],
   "source": [
    "sent = \"us cities lose 36 million trees each year . here is why it matters \"\n",
    "plot_attn_heatmap(sent)"
   ]
  },
  {
   "cell_type": "markdown",
   "metadata": {
    "colab_type": "text",
    "id": "FGh2jq9tG50n"
   },
   "source": [
    "Each row of these plots represents the attention weights on the history tokens when the model is trying to predict the next word. For example, the third row of the first plot can be interpreted as the attention weights over \"top\" and \"warning\" when predicting \"signs\"; you'll note that the rest of the row is black (i.e., zero attention on future words). Are these attention maps interpretable? If you (as a human) were solving the same word prediction problem, would you focus on the same words as the ATTNLM does?\n",
    "\n",
    "  * Yes, the attention maps are interpretable and provide insights on the next word that can appear, given\n",
    "a history word token. As a human, if I were solving the word prediction problem, I might not always predict the\n",
    "words as those focused by the ATTNLM. This is because, my training dataset would be larger as compared to\n",
    "the one used, and the next word attention weights might be different. For example, given the history word token\n",
    "million, looking at the heat map, I would predict the next word trees with a greater probability, since the attention\n",
    "weight for the combination million trees is higher as compared to the other alternatives. But, as a human I can\n",
    "also predict million cities, million year, which according to the heatmap has zero attention weights. Also, I would\n",
    "use the attention weights calculated for some of the words in the heatmap. For example, given the history word\n",
    "million, I would not predict the next word token to be either lose, here, since the attention weights for the\n",
    "combination is zero, which is also intuitive from english grammar.\n"
   ]
  },
  {
   "cell_type": "code",
   "execution_count": 0,
   "metadata": {
    "colab": {},
    "colab_type": "code",
    "id": "6EhxYhx2HyPY"
   },
   "outputs": [],
   "source": []
  },
  {
   "cell_type": "markdown",
   "metadata": {
    "colab_type": "text",
    "id": "RX8B91XHDsJd"
   },
   "source": [
    "## Q3. AllenNLP and Probe Tasks (30 points)"
   ]
  },
  {
   "cell_type": "markdown",
   "metadata": {
    "colab_type": "text",
    "id": "ojgaFW4gGb-6"
   },
   "source": [
    "### Overview\n",
    "In this homework, we will be studying probe tasks. Probe tasks are special tasks designed to interpret neural networks (especially, deep networks or word embeddings in NLP). Probe tasks generally use simple classifiers and special datasets to analyze the linguistic content stored in dense representations.\n",
    "\n",
    "We will also use this assignment to learn AllenNLP (https://github.com/allenai/allennlp), an excellent tool to build deep models for NLP and seamlessly integrate pretrained word embeddings.\n",
    "(NOTE - This assignment is written using `allennlp` as a Python library. A faster way of using `allennlp` is via JSONNET configuration files, as described [here](https://github.com/allenai/allennlp/blob/master/tutorials/getting_started/walk_through_allennlp/configuration.md). However, learning to use AllenNLP as a library is essential when you want to write custom AllenNLP modules. [This](https://allennlp.org/tutorials) is a good tutorial on using AllenNLP as a library.)\n",
    "\n",
    "Let's start by setting up Google Drive to download data.\n",
    "\n",
    "(*Run the cell below. No need to edit any code here.*)"
   ]
  },
  {
   "cell_type": "code",
   "execution_count": 0,
   "metadata": {
    "colab": {
     "base_uri": "https://localhost:8080/",
     "height": 34
    },
    "colab_type": "code",
    "id": "The2yi02jscj",
    "outputId": "c12c5691-edab-48df-c857-f012808a3e4f"
   },
   "outputs": [
    {
     "name": "stdout",
     "output_type": "stream",
     "text": [
      "success!\n"
     ]
    }
   ],
   "source": [
    "!pip install -U -q PyDrive\n",
    "\n",
    "from pydrive.auth import GoogleAuth\n",
    "from pydrive.drive import GoogleDrive\n",
    "from google.colab import auth\n",
    "from oauth2client.client import GoogleCredentials\n",
    "# Authenticate and create the PyDrive client.\n",
    "auth.authenticate_user()\n",
    "gauth = GoogleAuth()\n",
    "gauth.credentials = GoogleCredentials.get_application_default()\n",
    "drive = GoogleDrive(gauth)\n",
    "print('success!')"
   ]
  },
  {
   "cell_type": "markdown",
   "metadata": {
    "colab_type": "text",
    "id": "6BhHo6LZPrqN"
   },
   "source": [
    "### Install AllenNLP\n",
    "\n",
    "Run the below cell once per session to install `allennlp` locally. You might need to restart the runtime after doing this. No need to re-run it for a different runtime in the same session.\n",
    "\n",
    "(*Run the cell below. No need to edit any code here.*)"
   ]
  },
  {
   "cell_type": "code",
   "execution_count": 0,
   "metadata": {
    "colab": {},
    "colab_type": "code",
    "id": "cjRB5xxFOoZh"
   },
   "outputs": [],
   "source": [
    "# can take about a minute\n",
    "!pip install allennlp"
   ]
  },
  {
   "cell_type": "markdown",
   "metadata": {
    "colab_type": "text",
    "id": "93Hzae6bP3w1"
   },
   "source": [
    "### Subject-Verb Agreement\n",
    "\n",
    "In this assignment, we will design a probe task to test whether word embeddings capture subject-verb agreement. For instance, in English we use the singular verb in this sentence,\n",
    "\n",
    "\n",
    "*   CORRECT - This assignment **is** very easy.\n",
    "*   WRONG - This assignment **are** very easy.\n",
    "\n",
    "Subject-Verb agreement is an important probe task in NLP literature (see [Linzen et al. 2016](https://arxiv.org/abs/1611.01368) and [Gulordova et al. 2018](https://arxiv.org/abs/1803.11138)). We will be using the evaluation set described in  [Linzen et al. 2016](https://arxiv.org/abs/1611.01368), but formulating the problem in a different way.\n",
    "\n",
    "We start by downloading our dataset. Each `inp` variable represents an English sentence. Each `out` variable has four parts, a) index of verb b) correct verb form c) wrong verb form d) number of agreement attractors (we will not need this data for our experiments, but you should read about them in [Linzen et al. 2016](https://arxiv.org/abs/1611.01368) to help you explain some of the results we obtain).\n",
    "\n",
    "(*Run the cell below. No need to edit any code here.*)\n"
   ]
  },
  {
   "cell_type": "code",
   "execution_count": 0,
   "metadata": {
    "colab": {
     "base_uri": "https://localhost:8080/",
     "height": 87
    },
    "colab_type": "code",
    "id": "9P4IoAcQzjn1",
    "outputId": "dc9bfeb9-d6e6-4d16-d199-f47a8178c42b"
   },
   "outputs": [
    {
     "name": "stdout",
     "output_type": "stream",
     "text": [
      "Length of all data = 7489\n",
      "train, valid data lengths = 748, 1124\n",
      "('the two versions of the game have identical core gameplay elements , though the extreme version is tweaked to feel more like the arcade mode in the original off-world interceptor . <eos>', '6\\thave\\thas\\t1')\n"
     ]
    }
   ],
   "source": [
    "import pickle\n",
    "\n",
    "f_agreement = drive.CreateFile({'id': '1S1_RQQHTwwf0F6IM2MmbIr4inINyNbsQ'})\n",
    "f_agreement.GetContentFile('./agreement.pkl') \n",
    "\n",
    "\n",
    "with open('./agreement.pkl', 'rb') as f_in:\n",
    "    agreement_inp, agreement_output = pickle.load(f_in)\n",
    "\n",
    "\n",
    "agreement_inp = agreement_inp.strip().split('\\n')\n",
    "agreement_output = agreement_output.strip().split('\\n')\n",
    "\n",
    "data_points = [(inp, out) for inp, out in zip(agreement_inp, agreement_output)]\n",
    "print(\"Length of all data = %d\" % len(data_points))\n",
    "\n",
    "# Splitting into 10%-15% train-valid splits. We are not using the full dataset for computational reasons.\n",
    "# We take a small training dataset since we want to assess the linguistic knowledge stored in pretrained embeddings.\n",
    "len_data = len(data_points)\n",
    "train_data = data_points[0 : int(0.1 * len_data)]\n",
    "valid_data = data_points[int(0.1 * len_data) : int(0.25 * len_data)]\n",
    "# Actual dataset sizes will be two times this, both the positive and negative example of these sentences\n",
    "print(\"train, valid data lengths = %d, %d\" % (len(train_data), len(valid_data)))\n",
    "# print(train_data)\n",
    "print(train_data[1])\n"
   ]
  },
  {
   "cell_type": "markdown",
   "metadata": {
    "colab_type": "text",
    "id": "hMu4St9OUVkv"
   },
   "source": [
    "### AllenNLP DatasetReader\n",
    "We next write a `DatasetReader` in `allennlp`, which is essentially a PyTorch `DatasetReader` with some syntactic sugar. The use of `Field` objects is essential to allow seamless padding and integration with rest of the `allennlp` pipeline.\n",
    "\n",
    "We will model our probe task as a binary classification task, where given an input sentence, a network has to determine whether the subject-verb agreement is correct or wrong. Notice how we generate two data points per sentence  in the `_read()` function, one with the correct verb (labelled `\"correct\"`) and the other with the wrong verb (labelled `\"wrong\"`).\n",
    "\n",
    "(*Run the cell below. No need to edit any code here.*)"
   ]
  },
  {
   "cell_type": "code",
   "execution_count": 0,
   "metadata": {
    "colab": {},
    "colab_type": "code",
    "id": "h96J8X8Fh4qh"
   },
   "outputs": [],
   "source": [
    "import allennlp\n",
    "from allennlp.data.dataset_readers import DatasetReader\n",
    "\n",
    "from allennlp.data import Instance\n",
    "from allennlp.data.fields import TextField, LabelField\n",
    "\n",
    "from allennlp.data.token_indexers import TokenIndexer\n",
    "from allennlp.data.tokenizers import Token\n",
    "\n",
    "from allennlp.data.vocabulary import Vocabulary\n",
    "\n",
    "from typing import Iterator, List, Dict\n",
    "\n",
    "class AgreementDatasetReader(DatasetReader):\n",
    "    def __init__(self, token_indexers: Dict[str, TokenIndexer] = None) -> None:\n",
    "        super().__init__(lazy=False)\n",
    "        self.token_indexers = token_indexers or {\"tokens\": SingleIdTokenIndexer()}\n",
    "\n",
    "    def text_to_instance(self, tokens: List[str], label: str) -> Instance:\n",
    "        tokens = [Token(x) for x in tokens]\n",
    "        fields = {\n",
    "            \"sentence\": TextField(tokens, self.token_indexers),\n",
    "            \"labels\": LabelField(label)\n",
    "        }\n",
    "        return Instance(fields)\n",
    "\n",
    "    def _read(self, dataset) -> Iterator[Instance]:\n",
    "        for inp, out in dataset:\n",
    "            correct_input = [x for x in inp.split()[:-1]]\n",
    "            position, correct, wrong, _ = out.split('\\t')\n",
    "            position = int(position)\n",
    "            # verifying whether input is in correct form\n",
    "            assert correct_input[position] == correct.lower()\n",
    "            # yield both the correct and wrong forms of the agreement\n",
    "            wrong_input = [x for x in correct_input]\n",
    "            wrong_input[position] = wrong.lower()\n",
    "            \n",
    "            yield self.text_to_instance(correct_input, \"correct\")\n",
    "            yield self.text_to_instance(wrong_input, \"wrong\")"
   ]
  },
  {
   "cell_type": "markdown",
   "metadata": {
    "colab_type": "text",
    "id": "uBWTOqrnVgRC"
   },
   "source": [
    "### Q3.1 - AllenNLP Model (10 points)\n",
    "\n",
    "We will now build a simple one-layer classifer on top of average-pooled embeddings.  Notice how the `word_embeddings` are passed as a parameter to the model. This helps abstract the word embeddings outside the model, so it is very simple to swap random vectors with word2vec, GloVE, ELMo or BERT (as we will do in this exercise).\n",
    "\n",
    "Implement the `forward()` function for this model. Make sure you implement masking correctly, to avoid including masked vectors in the average pooling.\n",
    "\n",
    "(*Implement the missing sections in the code below. This is the only code you need to implement, so be careful!*)"
   ]
  },
  {
   "cell_type": "code",
   "execution_count": 0,
   "metadata": {
    "colab": {},
    "colab_type": "code",
    "id": "AC9yxSuVi9Nd"
   },
   "outputs": [],
   "source": [
    "# requires code\n",
    "import torch\n",
    "from allennlp.models import Model\n",
    "from allennlp.modules.text_field_embedders import TextFieldEmbedder\n",
    "from allennlp.training.metrics import CategoricalAccuracy\n",
    "from allennlp.nn.util import get_text_field_mask\n",
    "\n",
    "class AgreementProbeTask(Model):\n",
    "    def __init__(self,\n",
    "                 word_embeddings: TextFieldEmbedder,\n",
    "                 vocab: Vocabulary) -> None:\n",
    "        super().__init__(vocab)\n",
    "        self.word_embeddings = word_embeddings\n",
    "\n",
    "        self.final_linear = torch.nn.Linear(\n",
    "            in_features=word_embeddings.get_output_dim(),\n",
    "            out_features=vocab.get_vocab_size('labels')\n",
    "        )\n",
    "        self.criterion = torch.nn.CrossEntropyLoss()\n",
    "        self.accuracy = CategoricalAccuracy()\n",
    "\n",
    "    def forward(self,\n",
    "                sentence: Dict[str, torch.Tensor],\n",
    "                labels: torch.Tensor = None) -> Dict[str, torch.Tensor]:\n",
    "\n",
    "        mask = get_text_field_mask(sentence)\n",
    "        embeddings = self.word_embeddings(sentence)\n",
    "\n",
    "        # obtain a single vector for each element of the minibatch from the embeddings matrix\n",
    "        if 'bert' in self.word_embeddings._token_embedders:\n",
    "            # For BERT, we use the first token [CLS] for classification\n",
    "            # construct logits using the first embedding vector of the sequence only\n",
    "            #\n",
    "            # ENTER CODE HERE 1\n",
    "            encoder_out = embeddings[:,0,:]\n",
    "        else:\n",
    "            # For other models, we will average the embeddings across the sequence dimension\n",
    "            # Use the `mask` variable to correctly normalize the sum of embeddings by the sequence lengths\n",
    "            #\n",
    "            # ENTER CODE HERE 2\n",
    "            encoder_out = torch.div(torch.sum(embeddings, dim=1), torch.sum(mask, dim=1).float().view(-1,1))\n",
    "        # Use the linear layer declared in __init__ to construct the logits\n",
    "        # \n",
    "        # ENTER CODE HERE 3\n",
    "        logits = self.final_linear(encoder_out)\n",
    "\n",
    "        output = {\"logits\": logits}\n",
    "\n",
    "        if labels is not None:\n",
    "            self.accuracy(logits, labels)\n",
    "            output[\"loss\"] = self.criterion(logits, labels)\n",
    "\n",
    "        return output\n",
    "    \n",
    "    def get_metrics(self, reset: bool = False) -> Dict[str, float]:\n",
    "        return {\"accuracy\": self.accuracy.get_metric(reset)}"
   ]
  },
  {
   "cell_type": "markdown",
   "metadata": {
    "colab_type": "text",
    "id": "6iqZKhxBT99z"
   },
   "source": [
    "### A Primer on Fine-Tuning\n",
    "\n",
    "Before we analyze some word embeddings, we should understand some terminology (used in rest of the assignment). While using pre-trained weights for a downstream task, typically two approaches are used - 1) they are kept constant during the training 2) they optimized jointly with the rest of the network on the downstream task objective. The first approach (we will call this **frozen embeddings**) saves training cost and is arguably a better indicator of the native linguistic knowledge stored in the original embeddings. The second approach (we will call this **tunable embeddings**) generally leads to the best performance on the downstream task, but often suffers from catastrophic forgetting.\n",
    "\n",
    "It is an open research problem to fully understand the cases where fine-tuning word embeddings is useful.  [Peters et al. 2019](https://arxiv.org/abs/1903.05987) is a recent research paper on this topic."
   ]
  },
  {
   "cell_type": "markdown",
   "metadata": {
    "colab_type": "text",
    "id": "RVbmONVWS6-Q"
   },
   "source": [
    "### Putting the Pieces Together ...\n",
    "\n",
    "The code below is an implementation of the training infrastructure in AllenNLP, specific to our application. For the rest of the assignment, you only need to worry about modifying `config` and explaining the results you get. Run the cell below once to register the functions.\n",
    "\n",
    "*(Run the cell below. No need to edit any code here.)*"
   ]
  },
  {
   "cell_type": "code",
   "execution_count": 0,
   "metadata": {
    "colab": {},
    "colab_type": "code",
    "id": "3pa97L8s7Tcf"
   },
   "outputs": [],
   "source": [
    "from allennlp.modules.token_embedders import (\n",
    "    Embedding,\n",
    "    ElmoTokenEmbedder,\n",
    "    PretrainedBertEmbedder\n",
    ")\n",
    "from allennlp.modules.token_embedders.embedding import _read_pretrained_embeddings_file\n",
    "from allennlp.modules.text_field_embedders import BasicTextFieldEmbedder\n",
    "from allennlp.data.iterators import BucketIterator\n",
    "from allennlp.training.trainer import Trainer\n",
    "\n",
    "from allennlp.data.token_indexers import (\n",
    "    SingleIdTokenIndexer,\n",
    "    ELMoTokenCharactersIndexer,\n",
    "    PretrainedBertIndexer\n",
    ")\n",
    "\n",
    "import logging\n",
    "\n",
    "logging.basicConfig(level=logging.INFO)\n",
    "logger = logging.getLogger()\n",
    "\n",
    "def reset_weights_fn(m):\n",
    "    if hasattr(m, \"reset_parameters\"):\n",
    "        m.reset_parameters()\n",
    "\n",
    "def run_experiment(config):\n",
    "    embedding_type = config['embedding_type']\n",
    "    embedding_size = config['embedding_size']\n",
    "    urls = config['urls']\n",
    "    tunable = config['tunable']\n",
    "    batch_size = config['batch_size']\n",
    "    num_epochs = config['num_epochs']\n",
    "    reset_weights = config['reset_weights']\n",
    "    \n",
    "    # A token indexer is necessary to inform the DatasetReader the indexing process\n",
    "    if embedding_type in ['random', 'glove']:\n",
    "        logger.info(\"Using a single ID token indexer...\")\n",
    "        token_indexers = {\n",
    "            'tokens': SingleIdTokenIndexer()\n",
    "        }\n",
    "\n",
    "    elif embedding_type == 'elmo':\n",
    "        logger.info(\"Using elmo character token indexer...\")\n",
    "        token_indexers = {\n",
    "            'elmo': ELMoTokenCharactersIndexer()\n",
    "        }\n",
    "\n",
    "    elif embedding_type == 'bert':\n",
    "        logger.info(\"Using bert token indexer...\")\n",
    "        token_indexers = {\n",
    "            'bert': PretrainedBertIndexer('bert-base-uncased')\n",
    "        } \n",
    "\n",
    "    else:\n",
    "        logger.info(\"Invalid embeddings type, quitting...\")\n",
    "        return\n",
    "\n",
    "    # Loading training and validation datasets via our reader\n",
    "    reader = AgreementDatasetReader(token_indexers)\n",
    "    train_dataset = reader.read(train_data)\n",
    "    valid_dataset = reader.read(valid_data)\n",
    "    # `vocab` contains both the input vocab and output label space\n",
    "    vocab = Vocabulary.from_instances(train_dataset + valid_dataset)\n",
    "\n",
    "    if embedding_type == 'random':\n",
    "        logger.info(\"Using random embeddings...\")\n",
    "        token_embedding = Embedding(\n",
    "            num_embeddings=vocab.get_vocab_size('tokens'),\n",
    "            embedding_dim=embedding_size,\n",
    "            trainable=tunable\n",
    "        )\n",
    "        word_embeddings = BasicTextFieldEmbedder({\"tokens\": token_embedding})\n",
    "\n",
    "    elif embedding_type == 'glove':\n",
    "        logger.info(\"Using glove embeddings...\")\n",
    "        weight = _read_pretrained_embeddings_file(\n",
    "            urls[0],\n",
    "            embedding_size,\n",
    "            vocab\n",
    "        )\n",
    "        token_embedding = Embedding(\n",
    "            num_embeddings=vocab.get_vocab_size('tokens'),\n",
    "            weight=weight,\n",
    "            embedding_dim=embedding_size,\n",
    "            trainable=tunable\n",
    "        )\n",
    "        word_embeddings = BasicTextFieldEmbedder({\"tokens\": token_embedding})   \n",
    "\n",
    "    elif embedding_type == 'elmo':\n",
    "        logger.info(\"Using elmo embeddings...\")\n",
    "        elmo_token_embedding = ElmoTokenEmbedder(\n",
    "            urls[0], urls[1], dropout=0, requires_grad=tunable\n",
    "        )\n",
    "        if reset_weights is True:\n",
    "            logger.info(\"Resetting elmo weights...\")\n",
    "            \n",
    "            elmo_token_embedding.apply(reset_weights_fn)\n",
    "        word_embeddings = BasicTextFieldEmbedder({\"elmo\": elmo_token_embedding})\n",
    "    \n",
    "    elif embedding_type == 'bert':\n",
    "        logger.info(\"Using bert embeddings...\")\n",
    "        bert_token_embedding = PretrainedBertEmbedder(\n",
    "            'bert-base-uncased', requires_grad=tunable\n",
    "        )\n",
    "        if reset_weights is True:\n",
    "            logger.info(\"Resetting bert weights...\")\n",
    "            bert_token_embedding.apply(reset_weights_fn)\n",
    "        word_embeddings = BasicTextFieldEmbedder(\n",
    "            {\"bert\": bert_token_embedding},\n",
    "            {\"bert\": ['bert']},\n",
    "            allow_unmatched_keys=True\n",
    "        )\n",
    "\n",
    "    else:\n",
    "        logger.info(\"Invalid embeddings type, quitting...\")\n",
    "        return\n",
    "\n",
    "\n",
    "    model = AgreementProbeTask(word_embeddings, vocab)\n",
    "    \n",
    "    if torch.cuda.is_available():\n",
    "        cuda_device = 0\n",
    "        model = model.cuda(cuda_device)\n",
    "    else:\n",
    "        cuda_device = -1\n",
    "\n",
    "    optimizer = torch.optim.Adam(model.parameters(), lr=0.001)\n",
    "\n",
    "    # A bucket iterator is needed to sort the data by sequence length and reduce padding overhead\n",
    "    iterator = BucketIterator(batch_size=batch_size,\n",
    "                              sorting_keys=[(\"sentence\", \"num_tokens\")])\n",
    "    iterator.index_with(vocab)\n",
    "\n",
    "    # This function wraps all the whole training loop into a single object\n",
    "    trainer = Trainer(model=model,\n",
    "                      optimizer=optimizer,\n",
    "                      iterator=iterator,\n",
    "                      train_dataset=train_dataset,\n",
    "                      validation_dataset=valid_dataset,\n",
    "                      patience=20,\n",
    "                      validation_metric='+accuracy',\n",
    "                      num_epochs=num_epochs,\n",
    "                      cuda_device=cuda_device)\n",
    "    return trainer.train()"
   ]
  },
  {
   "cell_type": "markdown",
   "metadata": {
    "colab_type": "text",
    "id": "0Ooop9x9DJE3"
   },
   "source": [
    "###  Q3.2 - GloVE Embeddings (5 points)\n",
    "\n",
    "We are ready to train our model! We will start by training a baseline classification model which will use GLoVE embeddings. We will test both cases where the GLoVE embeddings are trainable and fixed. \n",
    "\n",
    "1. Try varying the embedding size (50, 100, 300) and report **early stopping** validation accuracy in the text box below. AllenNLP will provide this information to you at the end of training. Keep the embeddings frozen.\n",
    "2. Next, report the performance for tunable embeddings.\n",
    "3. Explain your observations / trends. What do you notice about training time / number of epochs across different runs? You are encouraged to think critically about the trends you notice in this question and the following questions. Most of the points awarded will depend on your explanations.\n",
    "\n",
    "(NOTE - The loss and accuracy values are in a similar range in some parts of this assignment, read the logs carefully!)\n",
    "\n",
    "*Hint - As a verification of your implementation, your 300 dimensional tunable accuracy should about 61%. This could vary slightly due to stochasticity.*\n",
    "\n",
    "\n",
    "The three sizes of GloVE embeddings that we are going to use can be found here -\n",
    "\n",
    "\n",
    "*  50 dimensional = https://s3-us-west-2.amazonaws.com/allennlp/datasets/glove/glove.6B.50d.txt.gz\n",
    "*  100 dimensional = https://s3-us-west-2.amazonaws.com/allennlp/datasets/glove/glove.6B.100d.txt.gz\n",
    "*  300 dimensional = https://s3-us-west-2.amazonaws.com/allennlp/datasets/glove/glove.840B.300d.txt.gz\n",
    "\n",
    "**For your reference, the largest GloVe setting (300, tunable) takes about 3 minutes 30 seconds to finish finetuning**\n",
    "\n",
    "\n"
   ]
  },
  {
   "cell_type": "markdown",
   "metadata": {
    "colab_type": "text",
    "id": "KON2Vth8bWlZ"
   },
   "source": [
    "### Enter your answers here\n",
    "\n",
    "\n",
    "**Frozen Embeddings**  \n",
    "50 dimensional = 0.5533807829181495\n",
    "\n",
    "100 dimensional =  0.568950177935943\n",
    "\n",
    "300 dimensional =  0.5720640569395018\n",
    "\n",
    "\n",
    "\n",
    "\n",
    "**Tunable Embeddings**  \n",
    "50 dimensional =  0.5769572953736655\n",
    "\n",
    "100 dimensional =  0.5945302431001103\n",
    "\n",
    "300 dimensional =  0.604982206405694\n",
    "\n",
    "**Explain your results here**\n",
    "We can see that the early stopping validation accuracies increases with the increase in word embedding size for both frozen as well as tunable embeddings. Its also observed that the tunable embeddings with 300 dimensions takes lower epoch to converge to optimal solution as compared to frozen embeddings. We can safely say here that the model performs better when the embeddings are tuned to the training data as compared to the pretrained embeddings tuned on a generic data. The increase in the validation accuracy post tuning the embeddings can be observed by comparing the individual accuracies for each dimensions of the word embeddings between frozen and tunable. We can also obsserve that the number of epochs and the training time decrease with the increase in dimensions of the tunable embedding model.\n"
   ]
  },
  {
   "cell_type": "code",
   "execution_count": 0,
   "metadata": {
    "colab": {},
    "colab_type": "code",
    "id": "MvQuWDP6Q89-"
   },
   "outputs": [],
   "source": [
    " config = {\n",
    "    'embedding_type': 'glove',\n",
    "    'embedding_size': 300,\n",
    "    'urls': [\n",
    "        # 'https://s3-us-west-2.amazonaws.com/allennlp/datasets/glove/glove.6B.50d.txt.gz'\n",
    "        # 'https://s3-us-west-2.amazonaws.com/allennlp/datasets/glove/glove.6B.100d.txt.gz'\n",
    "        'https://s3-us-west-2.amazonaws.com/allennlp/datasets/glove/glove.840B.300d.txt.gz'\n",
    "    ],\n",
    "    'tunable': True,\n",
    "    'batch_size': 100,\n",
    "    'num_epochs': 100,\n",
    "    'reset_weights': True\n",
    "}\n",
    "run_experiment(config)"
   ]
  },
  {
   "cell_type": "markdown",
   "metadata": {
    "colab_type": "text",
    "id": "0oVb5-e9LKck"
   },
   "source": [
    "###  Q3.3 - Contextualized Word Embeddings - ELMo (5 points)\n",
    "\n",
    "Having studied standard word embeddings, we are now going to explore modern sentence embedding techniques such as ELMo.\n",
    "\n",
    "1. Run the model with frozen and tunable ELMo embeddings and report the **early stopping** validation accuracy results as in Question 1.2.\n",
    "2. Run a baseline ELMo model with randomly initialized weights (Use the `reset_weights` configuration) and report the results. Consider both settings - frozen embeddings and tunable embeddings.\n",
    "3. Explain your results, compare it with GloVE embeddings. Why was this model so slow?\n",
    "\n",
    "**For your reference, the worst case of ELMo finetuning (random weights, tunable) takes about 1 hour and 20 minutes.**"
   ]
  },
  {
   "cell_type": "markdown",
   "metadata": {
    "colab_type": "text",
    "id": "OYGmO-lskZl1"
   },
   "source": [
    "### Enter your answers here\n",
    "\n",
    "\n",
    "\n",
    "**Frozen Embeddings**  \n",
    "random weights =  0.5440391459074733\n",
    "\n",
    "pretrained weights = 0.6619217081850534\n",
    "\n",
    "\n",
    "\n",
    "**Tunable Embeddings**  \n",
    "random weights =  0.5057829181494662\n",
    "\n",
    "pretrained weights = 0.8830071174377224\n",
    "\n",
    "\n",
    "**Explain your results here**\n",
    "\n",
    " * In ELMo models, representations are character based while GloVE embeddings are word-based, which implies higher number of trainable parameters in ELMo models as to GloVE embedding models. Hence ELMo models are slower to train than GloVE embedding models.Thus the number of epochs and training time are higher for ELMo models.\n",
    " * It's observed that the validation accuracy is higher for ELMo as compared to GloVE embedding models in both frozen embeddings and tunable embeddings. This is perhaps because the word embeddings in ELMo account for the distribution of the context in the sentence, which is not accounted for in GloVE embedding models.\n",
    " * We can also observe that the validation accuracy is higher for pretrained weights in both cases when the embeddings are frozen and tunable. We can say that the ELMo was better pretrained as compared to our training dataset.\n",
    " * It can be seen that pretrained weights with tunable embeddings have a higher validation accuracy than the pretrained weights with fixed embeddings. Its expected since the model is tuned to a particular task of Subject-Verb agreement which would have a better accuracy than the model trained in a generic manner.\n",
    "\n",
    "\n"
   ]
  },
  {
   "cell_type": "code",
   "execution_count": 0,
   "metadata": {
    "colab": {},
    "colab_type": "code",
    "id": "TaQkdCdkzIe2"
   },
   "outputs": [],
   "source": [
    "config = {\n",
    "    'embedding_type': 'elmo',\n",
    "    'embedding_size': 1024,\n",
    "    'urls': [\n",
    "        'https://s3-us-west-2.amazonaws.com/allennlp/models/elmo/2x4096_512_2048cnn_2xhighway/elmo_2x4096_512_2048cnn_2xhighway_options.json',\n",
    "        'https://s3-us-west-2.amazonaws.com/allennlp/models/elmo/2x4096_512_2048cnn_2xhighway/elmo_2x4096_512_2048cnn_2xhighway_weights.hdf5'\n",
    "    ],\n",
    "    'tunable': True,\n",
    "    'batch_size': 100,\n",
    "    'num_epochs': 100,\n",
    "    'reset_weights': False\n",
    "}\n",
    "\n",
    "run_experiment(config)\n"
   ]
  },
  {
   "cell_type": "markdown",
   "metadata": {
    "colab_type": "text",
    "id": "CetK-QJtOGZZ"
   },
   "source": [
    "###  Q3.4 - Contextualized Word Embeddings - BERT (5 points)\n",
    "\n",
    "As our final step, we will analyze representations learnt from BERT.\n",
    "\n",
    "1. Run the model with frozen BERT embeddings and report the **early stopping** validation accuracy as earlier.\n",
    "2. Run a baseline BERT model with randomly initialized weights (Use the `reset_weights` configuration). Consider only the frozen weight setting.\n",
    "3. Explain your results, compare it with GloVE and ELMo embeddings. Why was this faster (or slower) than ELMo?\n",
    "\n",
    "\n",
    "\n",
    "(Note - Fine-tuning BERT was crashing colab, probably due to a memory error. Feel free to check if this is the case and find any workarounds for this. Maybe, vary the batch_size)\n",
    "\n",
    "**For your references, finetuning BERT with randomly initialized weights takes about 30 minutes**"
   ]
  },
  {
   "cell_type": "markdown",
   "metadata": {
    "colab_type": "text",
    "id": "j0pHd3M6CE3e"
   },
   "source": [
    "### Enter your answers here\n",
    "\n",
    "\n",
    "\n",
    "\n",
    "\n",
    "**Frozen Embeddings**  \n",
    "random weights = 0.5618327402135231\n",
    "\n",
    "pretrained weights = 0.6650355871886121\n",
    "\n",
    "\n",
    "**Explain your results here**\n",
    "\n",
    " * The validation accuracy in case of the BERT model is closer to the validation accuracy of the ELMo embedding models, which is much higher than those of the GLoVE embedding models. This is expected as the ELMo and GloVE models consider the distribution of the contexts in the data which GloVE embedding models do not.\n",
    " * As seen from the training times and the number of epoch for GloVE, BERT, and ELMo, it can be said that ELMo takes the longest time to train and GloVE models are the fastest while BERT is in between them. \n",
    " * We can also say that randomly initialized weights in ELMo trains much slower than the case of BERT as BERT can be trained in parallel with the attention mechanism in place where as ELMo has to be trained sequentially. GloVE models are the fastest as the next word is predicted only based on the probability distribution of the entire vocabulary with no contexts in mind.\n",
    " * In the case of randomly initialized weights for ELMo and BERT, they take similar times to train as compared to the case of pretrained weights where the BERT model is slower to train than ELMo model.\n"
   ]
  },
  {
   "cell_type": "code",
   "execution_count": 0,
   "metadata": {
    "colab": {},
    "colab_type": "code",
    "id": "REeaWr4ROS9P"
   },
   "outputs": [],
   "source": [
    "config = {\n",
    "    'embedding_type': 'bert',\n",
    "    'embedding_size': 768,\n",
    "    'urls': [],\n",
    "    'tunable': False,\n",
    "    'batch_size': 100,\n",
    "    'num_epochs': 100,\n",
    "    'reset_weights': True\n",
    "}\n",
    "run_experiment(config)"
   ]
  },
  {
   "cell_type": "markdown",
   "metadata": {
    "colab_type": "text",
    "id": "tKxB-wFlN4ec"
   },
   "source": [
    "###  Q3.5 - Sentence Composition (5 points)\n",
    "\n",
    "One drawback of our analysis was the word embedding aggregation algorithm (averaging) used to build the sentence embedding was lossy. Is there a better way to aggregate sentences to avoid being lossy and improve the performance of frozen embedding models? (Please give at least three solutions to get full credits)\n",
    "\n",
    "### Enter your answer here\n",
    "\n",
    "* We can use a Smooth Inverse Frequency (SIF) relation where we compute the weighted average of the word vectors in the sentence and then mask the projections of the average vector on the first singular vector.\n",
    "* A TF-IDF weighting scheme can also be used to reduce the lossy behavior and improve the model's performance.\n",
    "* Another way is to concatenate the word-embeddings and apply a linear function layer on it to further improve its performance.\n",
    "* Max-pooling is another technique one can apply to the word-embeddings, which ensemble the word embeddings with lower loss compared to the averaging of the word embeddings."
   ]
  },
  {
   "cell_type": "code",
   "execution_count": 0,
   "metadata": {
    "colab": {},
    "colab_type": "code",
    "id": "XFWBVj-QGumb"
   },
   "outputs": [],
   "source": []
  }
 ],
 "metadata": {
  "accelerator": "GPU",
  "colab": {
   "collapsed_sections": [],
   "name": "CS685_hw2.ipynb",
   "provenance": []
  },
  "kernelspec": {
   "display_name": "Python 3",
   "language": "python",
   "name": "python3"
  },
  "language_info": {
   "codemirror_mode": {
    "name": "ipython",
    "version": 3
   },
   "file_extension": ".py",
   "mimetype": "text/x-python",
   "name": "python",
   "nbconvert_exporter": "python",
   "pygments_lexer": "ipython3",
   "version": "3.7.4"
  }
 },
 "nbformat": 4,
 "nbformat_minor": 1
}
