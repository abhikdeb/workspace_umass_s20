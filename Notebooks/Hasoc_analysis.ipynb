{
 "cells": [
  {
   "cell_type": "code",
   "execution_count": 1,
   "metadata": {},
   "outputs": [],
   "source": [
    "import pandas as pd\n",
    "import numpy as np\n",
    "import matplotlib.pyplot as plt\n",
    "import seaborn as sns"
   ]
  },
  {
   "cell_type": "code",
   "execution_count": 2,
   "metadata": {},
   "outputs": [],
   "source": [
    "import os"
   ]
  },
  {
   "cell_type": "code",
   "execution_count": 3,
   "metadata": {},
   "outputs": [
    {
     "data": {
      "text/plain": [
       "'D:\\\\UMass\\\\Spring20\\\\685\\\\Project'"
      ]
     },
     "execution_count": 3,
     "metadata": {},
     "output_type": "execute_result"
    }
   ],
   "source": [
    "os.getcwd()"
   ]
  },
  {
   "cell_type": "code",
   "execution_count": 4,
   "metadata": {},
   "outputs": [],
   "source": [
    "def get_pandas_df(filename):\n",
    "    with open(filename, 'r', encoding=\"UTF-8\") as datafile:\n",
    "        data = [line.strip().split(',', maxsplit=1) for line in datafile]\n",
    "        data_text = list(map(lambda x: x[1], data))\n",
    "        data_label = list(map(lambda x: int(x[0].strip()[-1]), data))\n",
    "    full_df = pd.DataFrame({\"text\": data_text, \"label\": data_label})\n",
    "    return full_df"
   ]
  },
  {
   "cell_type": "code",
   "execution_count": 5,
   "metadata": {},
   "outputs": [],
   "source": [
    "reddit_data = get_pandas_df('./Reddit/reddit_train.txt')\n",
    "gab_data = get_pandas_df('./Gab/gab_train.txt')\n",
    "hasoc_data = get_pandas_df('./english_dataset/english_dataset/nn_Data/bert_hasoc_data.train')"
   ]
  },
  {
   "cell_type": "code",
   "execution_count": 6,
   "metadata": {},
   "outputs": [
    {
     "data": {
      "text/plain": [
       "0    13578\n",
       "1     4210\n",
       "Name: label, dtype: int64"
      ]
     },
     "execution_count": 6,
     "metadata": {},
     "output_type": "execute_result"
    }
   ],
   "source": [
    "reddit_data['label'].value_counts()"
   ]
  },
  {
   "cell_type": "code",
   "execution_count": 7,
   "metadata": {},
   "outputs": [
    {
     "data": {
      "text/plain": [
       "0    15296\n",
       "1    11724\n",
       "Name: label, dtype: int64"
      ]
     },
     "execution_count": 7,
     "metadata": {},
     "output_type": "execute_result"
    }
   ],
   "source": [
    "gab_data['label'].value_counts()"
   ]
  },
  {
   "cell_type": "code",
   "execution_count": 8,
   "metadata": {},
   "outputs": [
    {
     "data": {
      "text/plain": [
       "0    3591\n",
       "1    1143\n",
       "2     667\n",
       "3     451\n",
       "Name: label, dtype: int64"
      ]
     },
     "execution_count": 8,
     "metadata": {},
     "output_type": "execute_result"
    }
   ],
   "source": [
    "hasoc_data['label'].value_counts()"
   ]
  },
  {
   "cell_type": "code",
   "execution_count": 20,
   "metadata": {
    "scrolled": false
   },
   "outputs": [
    {
     "data": {
      "text/html": [
       "<div>\n",
       "<style scoped>\n",
       "    .dataframe tbody tr th:only-of-type {\n",
       "        vertical-align: middle;\n",
       "    }\n",
       "\n",
       "    .dataframe tbody tr th {\n",
       "        vertical-align: top;\n",
       "    }\n",
       "\n",
       "    .dataframe thead th {\n",
       "        text-align: right;\n",
       "    }\n",
       "</style>\n",
       "<table border=\"1\" class=\"dataframe\">\n",
       "  <thead>\n",
       "    <tr style=\"text-align: right;\">\n",
       "      <th></th>\n",
       "      <th>text</th>\n",
       "      <th>label</th>\n",
       "    </tr>\n",
       "  </thead>\n",
       "  <tbody>\n",
       "    <tr>\n",
       "      <td>1</td>\n",
       "      <td>yes .  i wish the cunt would leave the us to ...</td>\n",
       "      <td>1</td>\n",
       "    </tr>\n",
       "    <tr>\n",
       "      <td>5</td>\n",
       "      <td>hahaha obama is a fucking retard  they never ...</td>\n",
       "      <td>1</td>\n",
       "    </tr>\n",
       "    <tr>\n",
       "      <td>7</td>\n",
       "      <td>i would unironically enjoy the fuck out of th...</td>\n",
       "      <td>1</td>\n",
       "    </tr>\n",
       "    <tr>\n",
       "      <td>11</td>\n",
       "      <td>the problem is people do say that, it's retar...</td>\n",
       "      <td>1</td>\n",
       "    </tr>\n",
       "    <tr>\n",
       "      <td>12</td>\n",
       "      <td>i recently moved to a community that has many...</td>\n",
       "      <td>1</td>\n",
       "    </tr>\n",
       "    <tr>\n",
       "      <td>...</td>\n",
       "      <td>...</td>\n",
       "      <td>...</td>\n",
       "    </tr>\n",
       "    <tr>\n",
       "      <td>17773</td>\n",
       "      <td>even niggers would be crazy not to take that ...</td>\n",
       "      <td>1</td>\n",
       "    </tr>\n",
       "    <tr>\n",
       "      <td>17774</td>\n",
       "      <td>no wonder muslims are fucking retarded .</td>\n",
       "      <td>1</td>\n",
       "    </tr>\n",
       "    <tr>\n",
       "      <td>17777</td>\n",
       "      <td>at this point i've decided that it just isn't...</td>\n",
       "      <td>1</td>\n",
       "    </tr>\n",
       "    <tr>\n",
       "      <td>17781</td>\n",
       "      <td>you’ll never fully realize this until you dum...</td>\n",
       "      <td>1</td>\n",
       "    </tr>\n",
       "    <tr>\n",
       "      <td>17782</td>\n",
       "      <td>&gt;the backups, however, had also been corrupte...</td>\n",
       "      <td>1</td>\n",
       "    </tr>\n",
       "  </tbody>\n",
       "</table>\n",
       "<p>4210 rows × 2 columns</p>\n",
       "</div>"
      ],
      "text/plain": [
       "                                                    text  label\n",
       "1       yes .  i wish the cunt would leave the us to ...      1\n",
       "5       hahaha obama is a fucking retard  they never ...      1\n",
       "7       i would unironically enjoy the fuck out of th...      1\n",
       "11      the problem is people do say that, it's retar...      1\n",
       "12      i recently moved to a community that has many...      1\n",
       "...                                                  ...    ...\n",
       "17773   even niggers would be crazy not to take that ...      1\n",
       "17774           no wonder muslims are fucking retarded .      1\n",
       "17777   at this point i've decided that it just isn't...      1\n",
       "17781   you’ll never fully realize this until you dum...      1\n",
       "17782   >the backups, however, had also been corrupte...      1\n",
       "\n",
       "[4210 rows x 2 columns]"
      ]
     },
     "execution_count": 20,
     "metadata": {},
     "output_type": "execute_result"
    }
   ],
   "source": [
    "reddit_data[reddit_data['label'] == 1]"
   ]
  },
  {
   "cell_type": "code",
   "execution_count": 21,
   "metadata": {},
   "outputs": [
    {
     "data": {
      "text/html": [
       "<div>\n",
       "<style scoped>\n",
       "    .dataframe tbody tr th:only-of-type {\n",
       "        vertical-align: middle;\n",
       "    }\n",
       "\n",
       "    .dataframe tbody tr th {\n",
       "        vertical-align: top;\n",
       "    }\n",
       "\n",
       "    .dataframe thead th {\n",
       "        text-align: right;\n",
       "    }\n",
       "</style>\n",
       "<table border=\"1\" class=\"dataframe\">\n",
       "  <thead>\n",
       "    <tr style=\"text-align: right;\">\n",
       "      <th></th>\n",
       "      <th>text</th>\n",
       "      <th>label</th>\n",
       "    </tr>\n",
       "  </thead>\n",
       "  <tbody>\n",
       "    <tr>\n",
       "      <td>0</td>\n",
       "      <td>\"[HASHTAG] dhonikeepstheglove | watch: sports ...</td>\n",
       "      <td>0</td>\n",
       "    </tr>\n",
       "    <tr>\n",
       "      <td>1</td>\n",
       "      <td>[USER] no. we should remember very clearly tha...</td>\n",
       "      <td>1</td>\n",
       "    </tr>\n",
       "    <tr>\n",
       "      <td>2</td>\n",
       "      <td>[USER] guess who would be the winner of this [...</td>\n",
       "      <td>0</td>\n",
       "    </tr>\n",
       "    <tr>\n",
       "      <td>3</td>\n",
       "      <td>corbyn is too politically intellectual for [HA...</td>\n",
       "      <td>0</td>\n",
       "    </tr>\n",
       "    <tr>\n",
       "      <td>4</td>\n",
       "      <td>all the best to [HASHTAG] teamindia for anothe...</td>\n",
       "      <td>0</td>\n",
       "    </tr>\n",
       "    <tr>\n",
       "      <td>...</td>\n",
       "      <td>...</td>\n",
       "      <td>...</td>\n",
       "    </tr>\n",
       "    <tr>\n",
       "      <td>5847</td>\n",
       "      <td>\"[USER] [USER] that's cute and all, but absolu...</td>\n",
       "      <td>2</td>\n",
       "    </tr>\n",
       "    <tr>\n",
       "      <td>5848</td>\n",
       "      <td>a recession issa comin' [HASHTAG] maga [HASHTA...</td>\n",
       "      <td>0</td>\n",
       "    </tr>\n",
       "    <tr>\n",
       "      <td>5849</td>\n",
       "      <td>[HASHTAG] doctorsfightback will 'the mad n irr...</td>\n",
       "      <td>3</td>\n",
       "    </tr>\n",
       "    <tr>\n",
       "      <td>5850</td>\n",
       "      <td>\"[HASHTAG] shiningindia [HASHTAG] educatedindi...</td>\n",
       "      <td>3</td>\n",
       "    </tr>\n",
       "    <tr>\n",
       "      <td>5851</td>\n",
       "      <td>could this be our new prime minister? [HASHTAG...</td>\n",
       "      <td>2</td>\n",
       "    </tr>\n",
       "  </tbody>\n",
       "</table>\n",
       "<p>5852 rows × 2 columns</p>\n",
       "</div>"
      ],
      "text/plain": [
       "                                                   text  label\n",
       "0     \"[HASHTAG] dhonikeepstheglove | watch: sports ...      0\n",
       "1     [USER] no. we should remember very clearly tha...      1\n",
       "2     [USER] guess who would be the winner of this [...      0\n",
       "3     corbyn is too politically intellectual for [HA...      0\n",
       "4     all the best to [HASHTAG] teamindia for anothe...      0\n",
       "...                                                 ...    ...\n",
       "5847  \"[USER] [USER] that's cute and all, but absolu...      2\n",
       "5848  a recession issa comin' [HASHTAG] maga [HASHTA...      0\n",
       "5849  [HASHTAG] doctorsfightback will 'the mad n irr...      3\n",
       "5850  \"[HASHTAG] shiningindia [HASHTAG] educatedindi...      3\n",
       "5851  could this be our new prime minister? [HASHTAG...      2\n",
       "\n",
       "[5852 rows x 2 columns]"
      ]
     },
     "execution_count": 21,
     "metadata": {},
     "output_type": "execute_result"
    }
   ],
   "source": [
    "hasoc_data"
   ]
  },
  {
   "cell_type": "code",
   "execution_count": 22,
   "metadata": {},
   "outputs": [],
   "source": [
    "from collections import Counter"
   ]
  },
  {
   "cell_type": "code",
   "execution_count": 36,
   "metadata": {},
   "outputs": [],
   "source": [
    "import re\n",
    "from nltk import TweetTokenizer, PorterStemmer, WordNetLemmatizer\n",
    "from nltk.corpus import stopwords\n",
    "from string import punctuation"
   ]
  },
  {
   "cell_type": "code",
   "execution_count": 45,
   "metadata": {},
   "outputs": [],
   "source": [
    "def preprocessor(tweet):\n",
    "#     global vocab\n",
    "    tokenizer = TweetTokenizer()\n",
    "    stops = set(stopwords.words(\"english\"))\n",
    "    # porter = PorterStemmer()\n",
    "    # lemmatizer = WordNetLemmatizer()\n",
    "    tweet = tweet.lower()\n",
    "    tweet = re.sub(r\"^RT \", ' [RT] ', tweet)\n",
    "    while len(re.findall(r'@[^ :]*:?', tweet)) >= 1:\n",
    "        tweet = re.sub(r'@[^ :]*:?', ' [USER] ', tweet)\n",
    "    tweet = re.sub(r\"http[s]?:\\/\\/[^ \\n]*\", ' [LINK] ', tweet)\n",
    "    tweet = re.sub(r\"\\s+\", ' ', tweet)\n",
    "    tweet = re.sub(r'[‘’“”…]', ' <quote> ', tweet)\n",
    "    tweet = re.sub(r'#', ' <hashtag> ', tweet)\n",
    "    # tokens = tweet.strip().split()\n",
    "    # tokens = tweet\n",
    "    tokens = tokenizer.tokenize(tweet)\n",
    "    puncs = str.maketrans('', '', punctuation)\n",
    "    tokens = [w.translate(puncs) for w in tokens]\n",
    "    tokens = [w for w in tokens if not len(w) < 1]\n",
    "    tokens = [w for w in tokens if not w in stops]\n",
    "    # tokens = ['[hashtag]' for w in tokens if w == ]'#']\n",
    "    # tokens = [porter.stem(w) for w in tokens]\n",
    "    # tokens = [lemmatizer.lemmatize(w) for w in tokens]\n",
    "#     for word in tokens:\n",
    "#         if word not in vocab.keys():\n",
    "#             vocab[word] = 1\n",
    "#         else:\n",
    "#             vocab[word] += 1\n",
    "    return \" \".join(tokens)"
   ]
  },
  {
   "cell_type": "code",
   "execution_count": 46,
   "metadata": {},
   "outputs": [],
   "source": [
    "hdf = hasoc_data.copy(deep=True)"
   ]
  },
  {
   "cell_type": "code",
   "execution_count": 47,
   "metadata": {},
   "outputs": [],
   "source": [
    "hdf.text = hdf.text.apply(preprocessor)"
   ]
  },
  {
   "cell_type": "code",
   "execution_count": 48,
   "metadata": {},
   "outputs": [
    {
     "data": {
      "text/html": [
       "<div>\n",
       "<style scoped>\n",
       "    .dataframe tbody tr th:only-of-type {\n",
       "        vertical-align: middle;\n",
       "    }\n",
       "\n",
       "    .dataframe tbody tr th {\n",
       "        vertical-align: top;\n",
       "    }\n",
       "\n",
       "    .dataframe thead th {\n",
       "        text-align: right;\n",
       "    }\n",
       "</style>\n",
       "<table border=\"1\" class=\"dataframe\">\n",
       "  <thead>\n",
       "    <tr style=\"text-align: right;\">\n",
       "      <th></th>\n",
       "      <th>text</th>\n",
       "      <th>label</th>\n",
       "    </tr>\n",
       "  </thead>\n",
       "  <tbody>\n",
       "    <tr>\n",
       "      <td>0</td>\n",
       "      <td>hashtag dhonikeepstheglove watch sports minist...</td>\n",
       "      <td>0</td>\n",
       "    </tr>\n",
       "    <tr>\n",
       "      <td>1</td>\n",
       "      <td>user remember clearly hashtag individual 1 adm...</td>\n",
       "      <td>1</td>\n",
       "    </tr>\n",
       "    <tr>\n",
       "      <td>2</td>\n",
       "      <td>user guess would winner hashtag cwc 19 team ge...</td>\n",
       "      <td>0</td>\n",
       "    </tr>\n",
       "    <tr>\n",
       "      <td>3</td>\n",
       "      <td>corbyn politically intellectual hashtag borisj...</td>\n",
       "      <td>0</td>\n",
       "    </tr>\n",
       "    <tr>\n",
       "      <td>4</td>\n",
       "      <td>best hashtag teamindia another swimming compet...</td>\n",
       "      <td>0</td>\n",
       "    </tr>\n",
       "    <tr>\n",
       "      <td>...</td>\n",
       "      <td>...</td>\n",
       "      <td>...</td>\n",
       "    </tr>\n",
       "    <tr>\n",
       "      <td>5847</td>\n",
       "      <td>user user thats cute absolutely true thats wor...</td>\n",
       "      <td>2</td>\n",
       "    </tr>\n",
       "    <tr>\n",
       "      <td>5848</td>\n",
       "      <td>recession issa comin hashtag maga hashtag maga...</td>\n",
       "      <td>0</td>\n",
       "    </tr>\n",
       "    <tr>\n",
       "      <td>5849</td>\n",
       "      <td>hashtag doctorsfightback mad n irrational dict...</td>\n",
       "      <td>3</td>\n",
       "    </tr>\n",
       "    <tr>\n",
       "      <td>5850</td>\n",
       "      <td>hashtag shiningindia hashtag educatedindia lik...</td>\n",
       "      <td>3</td>\n",
       "    </tr>\n",
       "    <tr>\n",
       "      <td>5851</td>\n",
       "      <td>could new prime minister hashtag richwhitemanp...</td>\n",
       "      <td>2</td>\n",
       "    </tr>\n",
       "  </tbody>\n",
       "</table>\n",
       "<p>5852 rows × 2 columns</p>\n",
       "</div>"
      ],
      "text/plain": [
       "                                                   text  label\n",
       "0     hashtag dhonikeepstheglove watch sports minist...      0\n",
       "1     user remember clearly hashtag individual 1 adm...      1\n",
       "2     user guess would winner hashtag cwc 19 team ge...      0\n",
       "3     corbyn politically intellectual hashtag borisj...      0\n",
       "4     best hashtag teamindia another swimming compet...      0\n",
       "...                                                 ...    ...\n",
       "5847  user user thats cute absolutely true thats wor...      2\n",
       "5848  recession issa comin hashtag maga hashtag maga...      0\n",
       "5849  hashtag doctorsfightback mad n irrational dict...      3\n",
       "5850  hashtag shiningindia hashtag educatedindia lik...      3\n",
       "5851  could new prime minister hashtag richwhitemanp...      2\n",
       "\n",
       "[5852 rows x 2 columns]"
      ]
     },
     "execution_count": 48,
     "metadata": {},
     "output_type": "execute_result"
    }
   ],
   "source": [
    "hdf"
   ]
  },
  {
   "cell_type": "code",
   "execution_count": 59,
   "metadata": {},
   "outputs": [
    {
     "data": {
      "text/plain": [
       "[('hashtag', 1784),\n",
       " ('user', 671),\n",
       " ('fucktrump', 315),\n",
       " ('link', 293),\n",
       " ('quote', 209),\n",
       " ('fuck', 127),\n",
       " ('dickhead', 108),\n",
       " ('trump', 92),\n",
       " ('fucking', 64),\n",
       " ('douchebag', 64),\n",
       " ('like', 46),\n",
       " ('shit', 43),\n",
       " ('😡', 38),\n",
       " ('resist', 38),\n",
       " ('get', 37),\n",
       " ('trumpisatraitor', 37),\n",
       " ('world', 36),\n",
       " ('one', 33),\n",
       " ('2020', 31),\n",
       " ('people', 31),\n",
       " ('n', 29),\n",
       " ('resisttrump', 29),\n",
       " ('ass', 27),\n",
       " ('think', 26),\n",
       " ('country', 26),\n",
       " ('😂', 26),\n",
       " ('would', 26),\n",
       " ('good', 25),\n",
       " ('go', 25),\n",
       " ('u', 25),\n",
       " ('time', 25),\n",
       " ('doctor', 25),\n",
       " ('shameonicc', 24),\n",
       " ('know', 24),\n",
       " ('day', 24),\n",
       " ('going', 23),\n",
       " ('even', 23),\n",
       " ('president', 23),\n",
       " ('america', 23),\n",
       " ('say', 23),\n",
       " ('rain', 22),\n",
       " ('sex', 22),\n",
       " ('🖕', 22),\n",
       " ('johnmccainday', 22),\n",
       " ('️', 21),\n",
       " ('impeachtrump', 21),\n",
       " ('us', 21),\n",
       " ('want', 20),\n",
       " ('make', 20),\n",
       " ('cup', 19),\n",
       " ('birthday', 19),\n",
       " ('impeachtrumpnow', 19),\n",
       " ('see', 19),\n",
       " ('rapist', 19),\n",
       " ('murderer', 19),\n",
       " ('piece', 18),\n",
       " ('really', 18),\n",
       " ('moron', 17),\n",
       " ('19', 17),\n",
       " ('happy', 17),\n",
       " ('f', 17),\n",
       " ('dont', 17),\n",
       " ('hes', 17),\n",
       " ('right', 16),\n",
       " ('never', 16),\n",
       " ('need', 16),\n",
       " ('video', 16),\n",
       " ('could', 16),\n",
       " ('another', 15),\n",
       " ('🤬', 15),\n",
       " ('fuckthegop', 15),\n",
       " ('borisjohnsonshouldnotbepm', 15),\n",
       " ('hope', 15),\n",
       " ('way', 15),\n",
       " ('oh', 15),\n",
       " ('youre', 15),\n",
       " ('help', 14),\n",
       " ('stupid', 14),\n",
       " ('support', 14),\n",
       " ('today', 14),\n",
       " ('traitortrump', 14),\n",
       " ('doctors', 14),\n",
       " ('asshole', 13),\n",
       " ('\\u200d', 13),\n",
       " ('great', 13),\n",
       " ('boris', 13),\n",
       " ('also', 13),\n",
       " ('said', 13),\n",
       " ('cant', 13),\n",
       " ('oral', 13),\n",
       " ('keep', 12),\n",
       " ('whole', 12),\n",
       " ('got', 12),\n",
       " ('ban', 12),\n",
       " ('cwc', 12),\n",
       " ('idiot', 12),\n",
       " ('saying', 12),\n",
       " ('give', 12),\n",
       " ('thats', 12),\n",
       " ('man', 12)]"
      ]
     },
     "execution_count": 59,
     "metadata": {},
     "output_type": "execute_result"
    }
   ],
   "source": [
    "Counter(\" \".join(hdf[hdf[\"label\"] == 2][\"text\"]).split()).most_common(100)"
   ]
  },
  {
   "cell_type": "code",
   "execution_count": 9,
   "metadata": {},
   "outputs": [],
   "source": [
    "s1 = pd.Series(reddit_data['label'].value_counts(), name='Reddit')\n",
    "s2 = pd.Series(gab_data['label'].value_counts(), name='Gab')\n",
    "s3 = pd.Series(hasoc_data['label'].value_counts(), name='Hasoc')"
   ]
  },
  {
   "cell_type": "code",
   "execution_count": 10,
   "metadata": {},
   "outputs": [],
   "source": [
    "vals = pd.concat([s1, s2, s3], axis=1).fillna(0)"
   ]
  },
  {
   "cell_type": "code",
   "execution_count": 11,
   "metadata": {},
   "outputs": [],
   "source": [
    "vals['Reddit'] = vals['Reddit'] / sum(vals['Reddit'])\n",
    "vals['Gab'] = vals['Gab'] / sum(vals['Gab'])\n",
    "vals['Hasoc'] = vals['Hasoc'] / sum(vals['Hasoc'])"
   ]
  },
  {
   "cell_type": "code",
   "execution_count": 12,
   "metadata": {},
   "outputs": [
    {
     "data": {
      "text/html": [
       "<div>\n",
       "<style scoped>\n",
       "    .dataframe tbody tr th:only-of-type {\n",
       "        vertical-align: middle;\n",
       "    }\n",
       "\n",
       "    .dataframe tbody tr th {\n",
       "        vertical-align: top;\n",
       "    }\n",
       "\n",
       "    .dataframe thead th {\n",
       "        text-align: right;\n",
       "    }\n",
       "</style>\n",
       "<table border=\"1\" class=\"dataframe\">\n",
       "  <thead>\n",
       "    <tr style=\"text-align: right;\">\n",
       "      <th></th>\n",
       "      <th>Reddit</th>\n",
       "      <th>Gab</th>\n",
       "      <th>Hasoc</th>\n",
       "    </tr>\n",
       "  </thead>\n",
       "  <tbody>\n",
       "    <tr>\n",
       "      <td>0</td>\n",
       "      <td>0.763324</td>\n",
       "      <td>0.566099</td>\n",
       "      <td>0.613636</td>\n",
       "    </tr>\n",
       "    <tr>\n",
       "      <td>1</td>\n",
       "      <td>0.236676</td>\n",
       "      <td>0.433901</td>\n",
       "      <td>0.195318</td>\n",
       "    </tr>\n",
       "    <tr>\n",
       "      <td>2</td>\n",
       "      <td>0.000000</td>\n",
       "      <td>0.000000</td>\n",
       "      <td>0.113978</td>\n",
       "    </tr>\n",
       "    <tr>\n",
       "      <td>3</td>\n",
       "      <td>0.000000</td>\n",
       "      <td>0.000000</td>\n",
       "      <td>0.077068</td>\n",
       "    </tr>\n",
       "  </tbody>\n",
       "</table>\n",
       "</div>"
      ],
      "text/plain": [
       "     Reddit       Gab     Hasoc\n",
       "0  0.763324  0.566099  0.613636\n",
       "1  0.236676  0.433901  0.195318\n",
       "2  0.000000  0.000000  0.113978\n",
       "3  0.000000  0.000000  0.077068"
      ]
     },
     "execution_count": 12,
     "metadata": {},
     "output_type": "execute_result"
    }
   ],
   "source": [
    "vals"
   ]
  },
  {
   "cell_type": "code",
   "execution_count": 10,
   "metadata": {},
   "outputs": [],
   "source": [
    "# sns.set(style=\"ticks\")"
   ]
  },
  {
   "cell_type": "code",
   "execution_count": 13,
   "metadata": {},
   "outputs": [
    {
     "data": {
      "text/plain": [
       "<matplotlib.axes._subplots.AxesSubplot at 0x24740807248>"
      ]
     },
     "execution_count": 13,
     "metadata": {},
     "output_type": "execute_result"
    },
    {
     "data": {
      "image/png": "[encoded data removed]",
      "text/plain": [
       "<Figure size 432x288 with 1 Axes>"
      ]
     },
     "metadata": {
      "needs_background": "light"
     },
     "output_type": "display_data"
    }
   ],
   "source": [
    "# f, ax = plt.subplots(figsize=(4,3))\n",
    "sns.barplot(data=vals)\n",
    "# ax.xaxis.grid(True)\n",
    "# ax.set(ylabel=\"\")\n",
    "# sns.despine(trim=True, left=True)"
   ]
  },
  {
   "cell_type": "code",
   "execution_count": 14,
   "metadata": {},
   "outputs": [],
   "source": [
    "from itertools import cycle, islice"
   ]
  },
  {
   "cell_type": "code",
   "execution_count": 15,
   "metadata": {},
   "outputs": [
    {
     "data": {
      "text/plain": [
       "<matplotlib.axes._subplots.AxesSubplot at 0x24740895d48>"
      ]
     },
     "execution_count": 15,
     "metadata": {},
     "output_type": "execute_result"
    },
    {
     "data": {
      "image/png": "[encoded data removed]",
      "text/plain": [
       "<Figure size 432x288 with 1 Axes>"
      ]
     },
     "metadata": {
      "needs_background": "light"
     },
     "output_type": "display_data"
    }
   ],
   "source": [
    "vals.T.plot(kind='barh', stacked=True, legend=False, color=list(islice(cycle(['green', 'orange', 'red', 'maroon']), None, len(vals))))"
   ]
  },
  {
   "cell_type": "code",
   "execution_count": 34,
   "metadata": {},
   "outputs": [],
   "source": [
    "dat = []\n",
    "dat.append(['LR(WE)', 0.67, 0.78, 0.35])\n",
    "dat.append(['LR(CV)', 0.87, 0.91, 0.44])\n",
    "dat.append(['LR(TF-IDF)', 0.79, 0.90, 0.38])\n",
    "dat.append(['CNN', 0.88, 0.91, 0.44])\n",
    "dat.append(['Bi-LSTM', 0.86, 0.90, 0.47])\n",
    "dat.append(['BERT', 0.88, 0.92, 0.55])"
   ]
  },
  {
   "cell_type": "code",
   "execution_count": 35,
   "metadata": {},
   "outputs": [
    {
     "data": {
      "text/html": [
       "<div>\n",
       "<style scoped>\n",
       "    .dataframe tbody tr th:only-of-type {\n",
       "        vertical-align: middle;\n",
       "    }\n",
       "\n",
       "    .dataframe tbody tr th {\n",
       "        vertical-align: top;\n",
       "    }\n",
       "\n",
       "    .dataframe thead th {\n",
       "        text-align: right;\n",
       "    }\n",
       "</style>\n",
       "<table border=\"1\" class=\"dataframe\">\n",
       "  <thead>\n",
       "    <tr style=\"text-align: right;\">\n",
       "      <th></th>\n",
       "      <th>Model</th>\n",
       "      <th>Reddit</th>\n",
       "      <th>Gab</th>\n",
       "      <th>Twitter</th>\n",
       "    </tr>\n",
       "  </thead>\n",
       "  <tbody>\n",
       "    <tr>\n",
       "      <td>0</td>\n",
       "      <td>LR(WE)</td>\n",
       "      <td>0.67</td>\n",
       "      <td>0.78</td>\n",
       "      <td>0.35</td>\n",
       "    </tr>\n",
       "    <tr>\n",
       "      <td>1</td>\n",
       "      <td>LR(CV)</td>\n",
       "      <td>0.87</td>\n",
       "      <td>0.91</td>\n",
       "      <td>0.44</td>\n",
       "    </tr>\n",
       "    <tr>\n",
       "      <td>2</td>\n",
       "      <td>LR(TF-IDF)</td>\n",
       "      <td>0.79</td>\n",
       "      <td>0.90</td>\n",
       "      <td>0.38</td>\n",
       "    </tr>\n",
       "    <tr>\n",
       "      <td>3</td>\n",
       "      <td>CNN</td>\n",
       "      <td>0.88</td>\n",
       "      <td>0.91</td>\n",
       "      <td>0.44</td>\n",
       "    </tr>\n",
       "    <tr>\n",
       "      <td>4</td>\n",
       "      <td>Bi-LSTM</td>\n",
       "      <td>0.86</td>\n",
       "      <td>0.90</td>\n",
       "      <td>0.47</td>\n",
       "    </tr>\n",
       "    <tr>\n",
       "      <td>5</td>\n",
       "      <td>BERT</td>\n",
       "      <td>0.88</td>\n",
       "      <td>0.92</td>\n",
       "      <td>0.55</td>\n",
       "    </tr>\n",
       "  </tbody>\n",
       "</table>\n",
       "</div>"
      ],
      "text/plain": [
       "        Model  Reddit   Gab  Twitter\n",
       "0      LR(WE)    0.67  0.78     0.35\n",
       "1      LR(CV)    0.87  0.91     0.44\n",
       "2  LR(TF-IDF)    0.79  0.90     0.38\n",
       "3         CNN    0.88  0.91     0.44\n",
       "4     Bi-LSTM    0.86  0.90     0.47\n",
       "5        BERT    0.88  0.92     0.55"
      ]
     },
     "execution_count": 35,
     "metadata": {},
     "output_type": "execute_result"
    }
   ],
   "source": [
    "df = pd.DataFrame(data=dat, columns=['Model', 'Reddit', 'Gab', 'Twitter'])\n",
    "df"
   ]
  },
  {
   "cell_type": "code",
   "execution_count": 57,
   "metadata": {},
   "outputs": [
    {
     "data": {
      "text/html": [
       "<div>\n",
       "<style scoped>\n",
       "    .dataframe tbody tr th:only-of-type {\n",
       "        vertical-align: middle;\n",
       "    }\n",
       "\n",
       "    .dataframe tbody tr th {\n",
       "        vertical-align: top;\n",
       "    }\n",
       "\n",
       "    .dataframe thead th {\n",
       "        text-align: right;\n",
       "    }\n",
       "</style>\n",
       "<table border=\"1\" class=\"dataframe\">\n",
       "  <thead>\n",
       "    <tr style=\"text-align: right;\">\n",
       "      <th></th>\n",
       "      <th>Reddit</th>\n",
       "      <th>Gab</th>\n",
       "      <th>Twitter</th>\n",
       "    </tr>\n",
       "    <tr>\n",
       "      <th>Model</th>\n",
       "      <th></th>\n",
       "      <th></th>\n",
       "      <th></th>\n",
       "    </tr>\n",
       "  </thead>\n",
       "  <tbody>\n",
       "    <tr>\n",
       "      <td>LR(WE)</td>\n",
       "      <td>0.67</td>\n",
       "      <td>0.78</td>\n",
       "      <td>0.35</td>\n",
       "    </tr>\n",
       "    <tr>\n",
       "      <td>LR(CV)</td>\n",
       "      <td>0.87</td>\n",
       "      <td>0.91</td>\n",
       "      <td>0.44</td>\n",
       "    </tr>\n",
       "    <tr>\n",
       "      <td>LR(TF-IDF)</td>\n",
       "      <td>0.79</td>\n",
       "      <td>0.90</td>\n",
       "      <td>0.38</td>\n",
       "    </tr>\n",
       "    <tr>\n",
       "      <td>CNN</td>\n",
       "      <td>0.88</td>\n",
       "      <td>0.91</td>\n",
       "      <td>0.44</td>\n",
       "    </tr>\n",
       "    <tr>\n",
       "      <td>Bi-LSTM</td>\n",
       "      <td>0.86</td>\n",
       "      <td>0.90</td>\n",
       "      <td>0.47</td>\n",
       "    </tr>\n",
       "    <tr>\n",
       "      <td>BERT</td>\n",
       "      <td>0.88</td>\n",
       "      <td>0.92</td>\n",
       "      <td>0.55</td>\n",
       "    </tr>\n",
       "  </tbody>\n",
       "</table>\n",
       "</div>"
      ],
      "text/plain": [
       "            Reddit   Gab  Twitter\n",
       "Model                            \n",
       "LR(WE)        0.67  0.78     0.35\n",
       "LR(CV)        0.87  0.91     0.44\n",
       "LR(TF-IDF)    0.79  0.90     0.38\n",
       "CNN           0.88  0.91     0.44\n",
       "Bi-LSTM       0.86  0.90     0.47\n",
       "BERT          0.88  0.92     0.55"
      ]
     },
     "execution_count": 57,
     "metadata": {},
     "output_type": "execute_result"
    }
   ],
   "source": [
    "df1 = df[['Reddit', 'Gab', 'Twitter']]\n",
    "df1.index = df['Model']\n",
    "df1"
   ]
  },
  {
   "cell_type": "code",
   "execution_count": 106,
   "metadata": {},
   "outputs": [
    {
     "data": {
      "image/png": "[encoded data removed]",
      "text/plain": [
       "<Figure size 432x288 with 1 Axes>"
      ]
     },
     "metadata": {
      "needs_background": "light"
     },
     "output_type": "display_data"
    }
   ],
   "source": [
    "ax = df1.T.plot(kind='barh', legend=True, sort_columns=True)\n",
    "ax.set_xlabel('Macro F1-score')\n",
    "ax.legend(loc='upper left')\n",
    "plt.gca().invert_yaxis()\n",
    "for p in ax.patches:\n",
    "#     ax.annotate(str(p.get_height()), (p.get_x() * 1.005, p.get_height() * 1.005))\n",
    "    ax.annotate(str(p.get_width()), (p.get_x() + p.get_width() * 1.0, p.get_y()), xytext=(-2, 4), textcoords='offset points')\n",
    "#     ax.annotate(str(int(p.get_width())), (p.get_x() + p.get_width(), p.get_y()), xytext=(-2, 4), textcoords='offset points', horizontalalignment='right')"
   ]
  },
  {
   "cell_type": "code",
   "execution_count": null,
   "metadata": {},
   "outputs": [],
   "source": []
  }
 ],
 "metadata": {
  "kernelspec": {
   "display_name": "Python 3",
   "language": "python",
   "name": "python3"
  },
  "language_info": {
   "codemirror_mode": {
    "name": "ipython",
    "version": 3
   },
   "file_extension": ".py",
   "mimetype": "text/x-python",
   "name": "python",
   "nbconvert_exporter": "python",
   "pygments_lexer": "ipython3",
   "version": "3.7.4"
  }
 },
 "nbformat": 4,
 "nbformat_minor": 2
}
