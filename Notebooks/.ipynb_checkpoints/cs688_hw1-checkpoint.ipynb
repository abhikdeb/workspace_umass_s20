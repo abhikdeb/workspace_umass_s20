{
 "cells": [
  {
   "cell_type": "code",
   "execution_count": 34,
   "metadata": {},
   "outputs": [],
   "source": [
    "import pandas as pd\n",
    "import numpy as np"
   ]
  },
  {
   "cell_type": "code",
   "execution_count": 2,
   "metadata": {},
   "outputs": [],
   "source": [
    "file_path = \"D:/UMass/Spring20/688/Homework/Assignment1/Assignment1/Data/\"\n",
    "file_pre = \"data\"\n",
    "file_ext = \".txt\"\n",
    "train_str = 'train'\n",
    "test_str = 'test'\n",
    "cols = ['A', 'G', 'CP', 'BP', 'CH', 'ECG', 'HR', 'EIA', 'HD']"
   ]
  },
  {
   "cell_type": "code",
   "execution_count": 3,
   "metadata": {},
   "outputs": [],
   "source": [
    "df = pd.read_csv(file_path+'data-'+train_str+'-'+'1'+file_ext, delimiter=',', header=None)"
   ]
  },
  {
   "cell_type": "code",
   "execution_count": 4,
   "metadata": {},
   "outputs": [],
   "source": [
    "df.columns = cols"
   ]
  },
  {
   "cell_type": "code",
   "execution_count": 5,
   "metadata": {},
   "outputs": [
    {
     "data": {
      "text/html": [
       "<div>\n",
       "<style scoped>\n",
       "    .dataframe tbody tr th:only-of-type {\n",
       "        vertical-align: middle;\n",
       "    }\n",
       "\n",
       "    .dataframe tbody tr th {\n",
       "        vertical-align: top;\n",
       "    }\n",
       "\n",
       "    .dataframe thead th {\n",
       "        text-align: right;\n",
       "    }\n",
       "</style>\n",
       "<table border=\"1\" class=\"dataframe\">\n",
       "  <thead>\n",
       "    <tr style=\"text-align: right;\">\n",
       "      <th></th>\n",
       "      <th>A</th>\n",
       "      <th>G</th>\n",
       "      <th>CP</th>\n",
       "      <th>BP</th>\n",
       "      <th>CH</th>\n",
       "      <th>ECG</th>\n",
       "      <th>HR</th>\n",
       "      <th>EIA</th>\n",
       "      <th>HD</th>\n",
       "    </tr>\n",
       "  </thead>\n",
       "  <tbody>\n",
       "    <tr>\n",
       "      <td>0</td>\n",
       "      <td>3</td>\n",
       "      <td>2</td>\n",
       "      <td>4</td>\n",
       "      <td>2</td>\n",
       "      <td>2</td>\n",
       "      <td>2</td>\n",
       "      <td>1</td>\n",
       "      <td>2</td>\n",
       "      <td>2</td>\n",
       "    </tr>\n",
       "    <tr>\n",
       "      <td>1</td>\n",
       "      <td>3</td>\n",
       "      <td>2</td>\n",
       "      <td>4</td>\n",
       "      <td>1</td>\n",
       "      <td>2</td>\n",
       "      <td>2</td>\n",
       "      <td>1</td>\n",
       "      <td>2</td>\n",
       "      <td>2</td>\n",
       "    </tr>\n",
       "    <tr>\n",
       "      <td>2</td>\n",
       "      <td>1</td>\n",
       "      <td>2</td>\n",
       "      <td>3</td>\n",
       "      <td>2</td>\n",
       "      <td>2</td>\n",
       "      <td>1</td>\n",
       "      <td>2</td>\n",
       "      <td>1</td>\n",
       "      <td>1</td>\n",
       "    </tr>\n",
       "    <tr>\n",
       "      <td>3</td>\n",
       "      <td>1</td>\n",
       "      <td>1</td>\n",
       "      <td>2</td>\n",
       "      <td>2</td>\n",
       "      <td>2</td>\n",
       "      <td>2</td>\n",
       "      <td>2</td>\n",
       "      <td>1</td>\n",
       "      <td>1</td>\n",
       "    </tr>\n",
       "    <tr>\n",
       "      <td>4</td>\n",
       "      <td>3</td>\n",
       "      <td>2</td>\n",
       "      <td>2</td>\n",
       "      <td>1</td>\n",
       "      <td>2</td>\n",
       "      <td>1</td>\n",
       "      <td>2</td>\n",
       "      <td>1</td>\n",
       "      <td>1</td>\n",
       "    </tr>\n",
       "    <tr>\n",
       "      <td>...</td>\n",
       "      <td>...</td>\n",
       "      <td>...</td>\n",
       "      <td>...</td>\n",
       "      <td>...</td>\n",
       "      <td>...</td>\n",
       "      <td>...</td>\n",
       "      <td>...</td>\n",
       "      <td>...</td>\n",
       "      <td>...</td>\n",
       "    </tr>\n",
       "    <tr>\n",
       "      <td>238</td>\n",
       "      <td>2</td>\n",
       "      <td>2</td>\n",
       "      <td>1</td>\n",
       "      <td>1</td>\n",
       "      <td>2</td>\n",
       "      <td>1</td>\n",
       "      <td>1</td>\n",
       "      <td>1</td>\n",
       "      <td>2</td>\n",
       "    </tr>\n",
       "    <tr>\n",
       "      <td>239</td>\n",
       "      <td>3</td>\n",
       "      <td>2</td>\n",
       "      <td>4</td>\n",
       "      <td>2</td>\n",
       "      <td>1</td>\n",
       "      <td>1</td>\n",
       "      <td>1</td>\n",
       "      <td>1</td>\n",
       "      <td>2</td>\n",
       "    </tr>\n",
       "    <tr>\n",
       "      <td>240</td>\n",
       "      <td>3</td>\n",
       "      <td>2</td>\n",
       "      <td>4</td>\n",
       "      <td>2</td>\n",
       "      <td>1</td>\n",
       "      <td>1</td>\n",
       "      <td>1</td>\n",
       "      <td>2</td>\n",
       "      <td>2</td>\n",
       "    </tr>\n",
       "    <tr>\n",
       "      <td>241</td>\n",
       "      <td>3</td>\n",
       "      <td>1</td>\n",
       "      <td>2</td>\n",
       "      <td>2</td>\n",
       "      <td>2</td>\n",
       "      <td>2</td>\n",
       "      <td>2</td>\n",
       "      <td>1</td>\n",
       "      <td>2</td>\n",
       "    </tr>\n",
       "    <tr>\n",
       "      <td>242</td>\n",
       "      <td>1</td>\n",
       "      <td>2</td>\n",
       "      <td>3</td>\n",
       "      <td>2</td>\n",
       "      <td>1</td>\n",
       "      <td>1</td>\n",
       "      <td>2</td>\n",
       "      <td>1</td>\n",
       "      <td>1</td>\n",
       "    </tr>\n",
       "  </tbody>\n",
       "</table>\n",
       "<p>243 rows × 9 columns</p>\n",
       "</div>"
      ],
      "text/plain": [
       "     A  G  CP  BP  CH  ECG  HR  EIA  HD\n",
       "0    3  2   4   2   2    2   1    2   2\n",
       "1    3  2   4   1   2    2   1    2   2\n",
       "2    1  2   3   2   2    1   2    1   1\n",
       "3    1  1   2   2   2    2   2    1   1\n",
       "4    3  2   2   1   2    1   2    1   1\n",
       "..  .. ..  ..  ..  ..  ...  ..  ...  ..\n",
       "238  2  2   1   1   2    1   1    1   2\n",
       "239  3  2   4   2   1    1   1    1   2\n",
       "240  3  2   4   2   1    1   1    2   2\n",
       "241  3  1   2   2   2    2   2    1   2\n",
       "242  1  2   3   2   1    1   2    1   1\n",
       "\n",
       "[243 rows x 9 columns]"
      ]
     },
     "execution_count": 5,
     "metadata": {},
     "output_type": "execute_result"
    }
   ],
   "source": [
    "df"
   ]
  },
  {
   "cell_type": "code",
   "execution_count": 23,
   "metadata": {},
   "outputs": [
    {
     "data": {
      "text/plain": [
       "A\n",
       "1    0.176955\n",
       "2    0.308642\n",
       "3    0.514403\n",
       "dtype: float64"
      ]
     },
     "execution_count": 23,
     "metadata": {},
     "output_type": "execute_result"
    }
   ],
   "source": [
    "# P(A)\n",
    "df.groupby('A').size()/len(df)"
   ]
  },
  {
   "cell_type": "code",
   "execution_count": 24,
   "metadata": {},
   "outputs": [
    {
     "data": {
      "text/plain": [
       "G\n",
       "1    0.337449\n",
       "2    0.662551\n",
       "dtype: float64"
      ]
     },
     "execution_count": 24,
     "metadata": {},
     "output_type": "execute_result"
    }
   ],
   "source": [
    "# P(G)\n",
    "df.groupby('G').size()/len(df)"
   ]
  },
  {
   "cell_type": "code",
   "execution_count": 25,
   "metadata": {},
   "outputs": [
    {
     "data": {
      "text/plain": [
       "G  BP\n",
       "1  1     0.365854\n",
       "   2     0.634146\n",
       "2  1     0.472050\n",
       "   2     0.527950\n",
       "dtype: float64"
      ]
     },
     "execution_count": 25,
     "metadata": {},
     "output_type": "execute_result"
    }
   ],
   "source": [
    "# P(BP|G)\n",
    "df.groupby(['G','BP']).size()/(len(df)*df.groupby('G').size()/len(df))"
   ]
  },
  {
   "cell_type": "code",
   "execution_count": 29,
   "metadata": {},
   "outputs": [
    {
     "data": {
      "text/plain": [
       "G  A  CH\n",
       "1  1  1     0.214286\n",
       "      2     0.785714\n",
       "   2  1     0.142857\n",
       "      2     0.857143\n",
       "   3  1     0.106383\n",
       "      2     0.893617\n",
       "2  1  1     0.275862\n",
       "      2     0.724138\n",
       "   2  1     0.166667\n",
       "      2     0.833333\n",
       "   3  1     0.166667\n",
       "      2     0.833333\n",
       "dtype: float64"
      ]
     },
     "execution_count": 29,
     "metadata": {},
     "output_type": "execute_result"
    }
   ],
   "source": [
    "# P(CH|G,A)\n",
    "df.groupby(['CH', 'G', 'A']).size()/(len(df)*(df.groupby(['G','A']).size()/len(df)))"
   ]
  },
  {
   "cell_type": "code",
   "execution_count": 30,
   "metadata": {},
   "outputs": [
    {
     "data": {
      "text/plain": [
       "BP  CH  HD\n",
       "1   1   1     0.526316\n",
       "        2     0.473684\n",
       "    2   1     0.586207\n",
       "        2     0.413793\n",
       "2   1   1     0.590909\n",
       "        2     0.409091\n",
       "    2   1     0.513043\n",
       "        2     0.486957\n",
       "dtype: float64"
      ]
     },
     "execution_count": 30,
     "metadata": {},
     "output_type": "execute_result"
    }
   ],
   "source": [
    "# P(HD|BP,CH)\n",
    "df.groupby(['HD', 'BP', 'CH']).size()/(len(df)*(df.groupby(['BP','CH']).size()/len(df)))"
   ]
  },
  {
   "cell_type": "code",
   "execution_count": 32,
   "metadata": {},
   "outputs": [
    {
     "data": {
      "text/plain": [
       "HD  CP\n",
       "1   1     0.067669\n",
       "    2     0.263158\n",
       "    3     0.421053\n",
       "    4     0.248120\n",
       "2   1     0.054545\n",
       "    2     0.072727\n",
       "    3     0.109091\n",
       "    4     0.763636\n",
       "dtype: float64"
      ]
     },
     "execution_count": 32,
     "metadata": {},
     "output_type": "execute_result"
    }
   ],
   "source": [
    "# P(CP|HD)\n",
    "df.groupby(['HD', 'CP']).size()/(len(df)*(df.groupby(['HD']).size()/len(df)))"
   ]
  },
  {
   "cell_type": "code",
   "execution_count": 33,
   "metadata": {},
   "outputs": [
    {
     "data": {
      "text/plain": [
       "HD  EIA\n",
       "1   1      0.887218\n",
       "    2      0.112782\n",
       "2   1      0.418182\n",
       "    2      0.581818\n",
       "dtype: float64"
      ]
     },
     "execution_count": 33,
     "metadata": {},
     "output_type": "execute_result"
    }
   ],
   "source": [
    "# P(EIA|HD)\n",
    "df.groupby(['HD', 'EIA']).size()/(len(df)*(df.groupby(['HD']).size()/len(df)))"
   ]
  },
  {
   "cell_type": "code",
   "execution_count": 34,
   "metadata": {},
   "outputs": [
    {
     "data": {
      "text/plain": [
       "HD  ECG\n",
       "1   1      0.593985\n",
       "    2      0.406015\n",
       "2   1      0.418182\n",
       "    2      0.581818\n",
       "dtype: float64"
      ]
     },
     "execution_count": 34,
     "metadata": {},
     "output_type": "execute_result"
    }
   ],
   "source": [
    "# P(ECG|HD)\n",
    "df.groupby(['HD', 'ECG']).size()/(len(df)*(df.groupby(['HD']).size()/len(df)))"
   ]
  },
  {
   "cell_type": "code",
   "execution_count": 35,
   "metadata": {},
   "outputs": [
    {
     "data": {
      "text/plain": [
       "A  HD  HR\n",
       "1  1   1     0.060606\n",
       "       2     0.939394\n",
       "   2   1     0.600000\n",
       "       2     0.400000\n",
       "2  1   1     0.173077\n",
       "       2     0.826923\n",
       "   2   1     0.521739\n",
       "       2     0.478261\n",
       "3  1   1     0.333333\n",
       "       2     0.666667\n",
       "   2   1     0.571429\n",
       "       2     0.428571\n",
       "dtype: float64"
      ]
     },
     "execution_count": 35,
     "metadata": {},
     "output_type": "execute_result"
    }
   ],
   "source": [
    "# P(HR|A,HD)\n",
    "df.groupby(['A', 'HD', 'HR']).size()/(len(df)*(df.groupby(['A','HD']).size()/len(df)))"
   ]
  },
  {
   "cell_type": "code",
   "execution_count": 37,
   "metadata": {},
   "outputs": [],
   "source": [
    "p1 = df.groupby(['A', 'HD', 'HR']).size()/(len(df)*(df.groupby(['A','HD']).size()/len(df)))"
   ]
  },
  {
   "cell_type": "code",
   "execution_count": 45,
   "metadata": {},
   "outputs": [
    {
     "data": {
      "text/plain": [
       "HR\n",
       "1    0.060606\n",
       "2    0.939394\n",
       "dtype: float64"
      ]
     },
     "execution_count": 45,
     "metadata": {},
     "output_type": "execute_result"
    }
   ],
   "source": [
    "p1[1][1]"
   ]
  },
  {
   "cell_type": "markdown",
   "metadata": {},
   "source": [
    "## Model"
   ]
  },
  {
   "cell_type": "code",
   "execution_count": 35,
   "metadata": {},
   "outputs": [],
   "source": [
    "# Given\n",
    "nodes = ['A','G','BP','CH','HD','CP','EIA','ECG','HR']\n",
    "# edges = [('G','BP'),('G','CH'),('A','CH'),('A','HR'),('BP','HD'),('CH','HD'),('HD','CP'),('HD','EIA'),('HD','ECG'),('HD','HR')]\n",
    "edges = [('G', 'BP'), ('G', 'CH'), ('G', 'HD'), ('A', 'BP'), \\\n",
    "             ('A', 'CH'), ('BP', 'HD'), ('CH', 'HD'), ('CH', 'HR'), \\\n",
    "             ('HD', 'CP'), ('HD', 'EIA'), ('HD', 'ECG'), ('HD', 'HR'), \\\n",
    "             ('EIA', 'CP'), ('HR', 'ECG'), ('HR', 'EIA')]"
   ]
  },
  {
   "cell_type": "code",
   "execution_count": 36,
   "metadata": {},
   "outputs": [],
   "source": [
    "# init parents\n",
    "parents = {}\n",
    "for n in nodes:\n",
    "    if n not in parents.keys():\n",
    "        parents[n] = []"
   ]
  },
  {
   "cell_type": "code",
   "execution_count": 37,
   "metadata": {},
   "outputs": [
    {
     "data": {
      "text/plain": [
       "{'A': [],\n",
       " 'G': [],\n",
       " 'BP': ['G', 'A'],\n",
       " 'CH': ['G', 'A'],\n",
       " 'HD': ['G', 'BP', 'CH'],\n",
       " 'CP': ['HD', 'EIA'],\n",
       " 'EIA': ['HD', 'HR'],\n",
       " 'ECG': ['HD', 'HR'],\n",
       " 'HR': ['CH', 'HD']}"
      ]
     },
     "execution_count": 37,
     "metadata": {},
     "output_type": "execute_result"
    }
   ],
   "source": [
    "# get parents\n",
    "for e in edges:\n",
    "    parents[e[1]].append(e[0])    \n",
    "parents"
   ]
  },
  {
   "cell_type": "code",
   "execution_count": 38,
   "metadata": {},
   "outputs": [
    {
     "data": {
      "text/plain": [
       "['A',\n",
       " 'G',\n",
       " 'BP~G,A',\n",
       " 'CH~G,A',\n",
       " 'HD~G,BP,CH',\n",
       " 'CP~HD,EIA',\n",
       " 'EIA~HD,HR',\n",
       " 'ECG~HD,HR',\n",
       " 'HR~CH,HD']"
      ]
     },
     "execution_count": 38,
     "metadata": {},
     "output_type": "execute_result"
    }
   ],
   "source": [
    "cpt_list = []\n",
    "for p in parents.keys():\n",
    "    P = parents[p]\n",
    "    if len(P) == 0:\n",
    "        cpt_list.append(p)\n",
    "    else:\n",
    "        cpt_list.append(p+'~'+(\",\".join(P)))\n",
    "cpt_list"
   ]
  },
  {
   "cell_type": "code",
   "execution_count": 39,
   "metadata": {},
   "outputs": [],
   "source": [
    "def get_cpt(inp, cpt):\n",
    "    ser = None\n",
    "    if '~' not in cpt:\n",
    "        ser = inp.groupby(cpt).size()/len(inp)\n",
    "    else:\n",
    "        nd, par = cpt.split('~')\n",
    "        pars = par.split(',') if ',' in par else [par]\n",
    "        ser = df.groupby([nd]+pars).size()/(len(df)*(df.groupby(pars).size()/len(df)))\n",
    "    return ser"
   ]
  },
  {
   "cell_type": "code",
   "execution_count": 11,
   "metadata": {},
   "outputs": [
    {
     "data": {
      "text/plain": [
       "A  HD  HR\n",
       "1  1   1     0.060606\n",
       "       2     0.939394\n",
       "   2   1     0.600000\n",
       "       2     0.400000\n",
       "2  1   1     0.173077\n",
       "       2     0.826923\n",
       "   2   1     0.521739\n",
       "       2     0.478261\n",
       "3  1   1     0.333333\n",
       "       2     0.666667\n",
       "   2   1     0.571429\n",
       "       2     0.428571\n",
       "dtype: float64"
      ]
     },
     "execution_count": 11,
     "metadata": {},
     "output_type": "execute_result"
    }
   ],
   "source": [
    "get_cpt(df, 'HR~A,HD')"
   ]
  },
  {
   "cell_type": "code",
   "execution_count": 40,
   "metadata": {},
   "outputs": [],
   "source": [
    "params = {}\n",
    "for cpts in cpt_list:\n",
    "    params[cpts] = get_cpt(df, cpts)"
   ]
  },
  {
   "cell_type": "code",
   "execution_count": 41,
   "metadata": {},
   "outputs": [
    {
     "data": {
      "text/plain": [
       "{'A': A\n",
       " 1    0.176955\n",
       " 2    0.308642\n",
       " 3    0.514403\n",
       " dtype: float64, 'G': G\n",
       " 1    0.337449\n",
       " 2    0.662551\n",
       " dtype: float64, 'BP~G,A': G  A  BP\n",
       " 1  1  1     0.714286\n",
       "       2     0.285714\n",
       "    2  1     0.380952\n",
       "       2     0.619048\n",
       "    3  1     0.255319\n",
       "       2     0.744681\n",
       " 2  1  1     0.551724\n",
       "       2     0.448276\n",
       "    2  1     0.592593\n",
       "       2     0.407407\n",
       "    3  1     0.358974\n",
       "       2     0.641026\n",
       " dtype: float64, 'CH~G,A': G  A  CH\n",
       " 1  1  1     0.214286\n",
       "       2     0.785714\n",
       "    2  1     0.142857\n",
       "       2     0.857143\n",
       "    3  1     0.106383\n",
       "       2     0.893617\n",
       " 2  1  1     0.275862\n",
       "       2     0.724138\n",
       "    2  1     0.166667\n",
       "       2     0.833333\n",
       "    3  1     0.166667\n",
       "       2     0.833333\n",
       " dtype: float64, 'HD~G,BP,CH': G  BP  CH  HD\n",
       " 1  1   1   1     0.750000\n",
       "            2     0.250000\n",
       "        2   1     0.923077\n",
       "            2     0.076923\n",
       "    2   1   1     0.857143\n",
       "            2     0.142857\n",
       "        2   1     0.644444\n",
       "            2     0.355556\n",
       " 2  1   1   1     0.466667\n",
       "            2     0.533333\n",
       "        2   1     0.442623\n",
       "            2     0.557377\n",
       "    2   1   1     0.466667\n",
       "            2     0.533333\n",
       "        2   1     0.428571\n",
       "            2     0.571429\n",
       " dtype: float64, 'CP~HD,EIA': HD  EIA  CP\n",
       " 1   1    1     0.076271\n",
       "          2     0.279661\n",
       "          3     0.423729\n",
       "          4     0.220339\n",
       "     2    2     0.133333\n",
       "          3     0.400000\n",
       "          4     0.466667\n",
       " 2   1    1     0.108696\n",
       "          2     0.152174\n",
       "          3     0.173913\n",
       "          4     0.565217\n",
       "     2    1     0.015625\n",
       "          2     0.015625\n",
       "          3     0.062500\n",
       "          4     0.906250\n",
       " dtype: float64, 'EIA~HD,HR': HD  HR  EIA\n",
       " 1   1   1      0.814815\n",
       "         2      0.185185\n",
       "     2   1      0.905660\n",
       "         2      0.094340\n",
       " 2   1   1      0.258065\n",
       "         2      0.741935\n",
       "     2   1      0.625000\n",
       "         2      0.375000\n",
       " dtype: float64, 'ECG~HD,HR': HD  HR  ECG\n",
       " 1   1   1      0.555556\n",
       "         2      0.444444\n",
       "     2   1      0.603774\n",
       "         2      0.396226\n",
       " 2   1   1      0.451613\n",
       "         2      0.548387\n",
       "     2   1      0.375000\n",
       "         2      0.625000\n",
       " dtype: float64, 'HR~CH,HD': CH  HD  HR\n",
       " 1   1   1     0.217391\n",
       "         2     0.782609\n",
       "     2   1     0.777778\n",
       "         2     0.222222\n",
       " 2   1   1     0.200000\n",
       "         2     0.800000\n",
       "     2   1     0.521739\n",
       "         2     0.478261\n",
       " dtype: float64}"
      ]
     },
     "execution_count": 41,
     "metadata": {},
     "output_type": "execute_result"
    }
   ],
   "source": [
    "params"
   ]
  },
  {
   "cell_type": "code",
   "execution_count": 14,
   "metadata": {},
   "outputs": [
    {
     "data": {
      "text/plain": [
       "HD\n",
       "1    0.193933\n",
       "2    0.052665\n",
       "dtype: float64"
      ]
     },
     "execution_count": 14,
     "metadata": {},
     "output_type": "execute_result"
    }
   ],
   "source": [
    "(params['HD~BP,CH'][1][2])*(params['CP~HD'][1] + params['CP~HD'][2])"
   ]
  },
  {
   "cell_type": "code",
   "execution_count": 15,
   "metadata": {},
   "outputs": [
    {
     "data": {
      "text/plain": [
       "A  HD  HR\n",
       "1  1   1     0.060606\n",
       "       2     0.939394\n",
       "   2   1     0.600000\n",
       "       2     0.400000\n",
       "2  1   1     0.173077\n",
       "       2     0.826923\n",
       "   2   1     0.521739\n",
       "       2     0.478261\n",
       "3  1   1     0.333333\n",
       "       2     0.666667\n",
       "   2   1     0.571429\n",
       "       2     0.428571\n",
       "dtype: float64"
      ]
     },
     "execution_count": 15,
     "metadata": {},
     "output_type": "execute_result"
    }
   ],
   "source": [
    "params['HR~A,HD']"
   ]
  },
  {
   "cell_type": "code",
   "execution_count": 27,
   "metadata": {},
   "outputs": [
    {
     "data": {
      "text/plain": [
       "A  HR  HD\n",
       "1  1   1     0.060606\n",
       "   2   1     0.939394\n",
       "   1   2     0.600000\n",
       "   2   2     0.400000\n",
       "2  1   1     0.173077\n",
       "   2   1     0.826923\n",
       "   1   2     0.521739\n",
       "   2   2     0.478261\n",
       "3  1   1     0.333333\n",
       "   2   1     0.666667\n",
       "   1   2     0.571429\n",
       "   2   2     0.428571\n",
       "dtype: float64"
      ]
     },
     "execution_count": 27,
     "metadata": {},
     "output_type": "execute_result"
    }
   ],
   "source": [
    "params['HR~A,HD'].reorder_levels([0,2,1])"
   ]
  },
  {
   "cell_type": "code",
   "execution_count": 17,
   "metadata": {},
   "outputs": [
    {
     "data": {
      "text/plain": [
       "1"
      ]
     },
     "execution_count": 17,
     "metadata": {},
     "output_type": "execute_result"
    }
   ],
   "source": [
    "params['CP~HD'][1].idxmax()"
   ]
  },
  {
   "cell_type": "code",
   "execution_count": 19,
   "metadata": {},
   "outputs": [],
   "source": [
    "Pos = {'A':0, 'G':1, 'BP':2, 'CH':1, 'CP':2, 'EIA':1, 'ECG':1, 'HR':1, 'HD':2}"
   ]
  },
  {
   "cell_type": "code",
   "execution_count": 21,
   "metadata": {},
   "outputs": [
    {
     "data": {
      "text/plain": [
       "HD\n",
       "1    0.263158\n",
       "2    0.072727\n",
       "dtype: float64"
      ]
     },
     "execution_count": 21,
     "metadata": {},
     "output_type": "execute_result"
    }
   ],
   "source": [
    "params['CP~HD'][Pos['CP']]"
   ]
  },
  {
   "cell_type": "code",
   "execution_count": 22,
   "metadata": {},
   "outputs": [],
   "source": [
    "p5 = params['HR~A,HD']"
   ]
  },
  {
   "cell_type": "code",
   "execution_count": 24,
   "metadata": {},
   "outputs": [
    {
     "data": {
      "text/plain": [
       "pandas.core.series.Series"
      ]
     },
     "execution_count": 24,
     "metadata": {},
     "output_type": "execute_result"
    }
   ],
   "source": [
    "type(p5)"
   ]
  },
  {
   "cell_type": "code",
   "execution_count": 25,
   "metadata": {},
   "outputs": [
    {
     "data": {
      "text/plain": [
       "True"
      ]
     },
     "execution_count": 25,
     "metadata": {},
     "output_type": "execute_result"
    }
   ],
   "source": [
    "None is None"
   ]
  },
  {
   "cell_type": "code",
   "execution_count": 33,
   "metadata": {},
   "outputs": [
    {
     "data": {
      "text/plain": [
       "G  A  CH\n",
       "1  1  1     0.214286\n",
       "      2     0.785714\n",
       "   2  1     0.142857\n",
       "      2     0.857143\n",
       "   3  1     0.106383\n",
       "      2     0.893617\n",
       "2  1  1     0.275862\n",
       "      2     0.724138\n",
       "   2  1     0.166667\n",
       "      2     0.833333\n",
       "   3  1     0.166667\n",
       "      2     0.833333\n",
       "dtype: float64"
      ]
     },
     "execution_count": 33,
     "metadata": {},
     "output_type": "execute_result"
    }
   ],
   "source": [
    "params['CH~G,A']"
   ]
  },
  {
   "cell_type": "code",
   "execution_count": 45,
   "metadata": {},
   "outputs": [
    {
     "data": {
      "text/plain": [
       "HR  ECG  HD\n",
       "1   1    1     0.555556\n",
       "    2    1     0.444444\n",
       "2   1    1     0.603774\n",
       "    2    1     0.396226\n",
       "1   1    2     0.451613\n",
       "    2    2     0.548387\n",
       "2   1    2     0.375000\n",
       "    2    2     0.625000\n",
       "dtype: float64"
      ]
     },
     "execution_count": 45,
     "metadata": {},
     "output_type": "execute_result"
    }
   ],
   "source": [
    "params['HR~CH,HD'].reorder_levels([1,2,0])"
   ]
  }
 ],
 "metadata": {
  "kernelspec": {
   "display_name": "Python 3",
   "language": "python",
   "name": "python3"
  },
  "language_info": {
   "codemirror_mode": {
    "name": "ipython",
    "version": 3
   },
   "file_extension": ".py",
   "mimetype": "text/x-python",
   "name": "python",
   "nbconvert_exporter": "python",
   "pygments_lexer": "ipython3",
   "version": "3.7.4"
  }
 },
 "nbformat": 4,
 "nbformat_minor": 2
}
